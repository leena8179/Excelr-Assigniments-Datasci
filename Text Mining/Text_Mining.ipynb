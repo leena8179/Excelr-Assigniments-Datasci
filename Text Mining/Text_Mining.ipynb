{
  "cells": [
    {
      "cell_type": "code",
      "execution_count": null,
      "metadata": {
        "id": "laqfWDxs4ypW"
      },
      "outputs": [],
      "source": [
        "import numpy as np\n",
        "import pandas as pd\n",
        "import matplotlib.pyplot as plt\n",
        "from matplotlib.pyplot import imread\n",
        "%matplotlib inline\n",
        "import seaborn as sns\n",
        "import warnings\n",
        "warnings.filterwarnings('ignore')\n",
        "\n",
        "import string # special operations on strings\n",
        "import spacy # language models\n",
        "import re\n",
        "from wordcloud import WordCloud"
      ]
    },
    {
      "cell_type": "code",
      "execution_count": null,
      "metadata": {
        "colab": {
          "base_uri": "https://localhost:8080/"
        },
        "id": "dioDhJVKVYcM",
        "outputId": "dc94d6f0-12d9-4d0f-916a-bcf451911f9e"
      },
      "outputs": [
        {
          "output_type": "stream",
          "name": "stdout",
          "text": [
            "2023-04-29 06:48:41.171187: W tensorflow/compiler/tf2tensorrt/utils/py_utils.cc:38] TF-TRT Warning: Could not find TensorRT\n",
            "\u001b[38;5;3m⚠ As of spaCy v3.0, shortcuts like 'en' are deprecated. Please use the\n",
            "full pipeline package name 'en_core_web_sm' instead.\u001b[0m\n",
            "Looking in indexes: https://pypi.org/simple, https://us-python.pkg.dev/colab-wheels/public/simple/\n",
            "Collecting en-core-web-sm==3.5.0\n",
            "  Downloading https://github.com/explosion/spacy-models/releases/download/en_core_web_sm-3.5.0/en_core_web_sm-3.5.0-py3-none-any.whl (12.8 MB)\n",
            "\u001b[2K     \u001b[90m━━━━━━━━━━━━━━━━━━━━━━━━━━━━━━━━━━━━━━━\u001b[0m \u001b[32m12.8/12.8 MB\u001b[0m \u001b[31m114.1 MB/s\u001b[0m eta \u001b[36m0:00:00\u001b[0m\n",
            "\u001b[?25hRequirement already satisfied: spacy<3.6.0,>=3.5.0 in /usr/local/lib/python3.10/dist-packages (from en-core-web-sm==3.5.0) (3.5.2)\n",
            "Requirement already satisfied: typer<0.8.0,>=0.3.0 in /usr/local/lib/python3.10/dist-packages (from spacy<3.6.0,>=3.5.0->en-core-web-sm==3.5.0) (0.7.0)\n",
            "Requirement already satisfied: pathy>=0.10.0 in /usr/local/lib/python3.10/dist-packages (from spacy<3.6.0,>=3.5.0->en-core-web-sm==3.5.0) (0.10.1)\n",
            "Requirement already satisfied: packaging>=20.0 in /usr/local/lib/python3.10/dist-packages (from spacy<3.6.0,>=3.5.0->en-core-web-sm==3.5.0) (23.1)\n",
            "Requirement already satisfied: murmurhash<1.1.0,>=0.28.0 in /usr/local/lib/python3.10/dist-packages (from spacy<3.6.0,>=3.5.0->en-core-web-sm==3.5.0) (1.0.9)\n",
            "Requirement already satisfied: spacy-legacy<3.1.0,>=3.0.11 in /usr/local/lib/python3.10/dist-packages (from spacy<3.6.0,>=3.5.0->en-core-web-sm==3.5.0) (3.0.12)\n",
            "Requirement already satisfied: preshed<3.1.0,>=3.0.2 in /usr/local/lib/python3.10/dist-packages (from spacy<3.6.0,>=3.5.0->en-core-web-sm==3.5.0) (3.0.8)\n",
            "Requirement already satisfied: thinc<8.2.0,>=8.1.8 in /usr/local/lib/python3.10/dist-packages (from spacy<3.6.0,>=3.5.0->en-core-web-sm==3.5.0) (8.1.9)\n",
            "Requirement already satisfied: numpy>=1.15.0 in /usr/local/lib/python3.10/dist-packages (from spacy<3.6.0,>=3.5.0->en-core-web-sm==3.5.0) (1.22.4)\n",
            "Requirement already satisfied: spacy-loggers<2.0.0,>=1.0.0 in /usr/local/lib/python3.10/dist-packages (from spacy<3.6.0,>=3.5.0->en-core-web-sm==3.5.0) (1.0.4)\n",
            "Requirement already satisfied: wasabi<1.2.0,>=0.9.1 in /usr/local/lib/python3.10/dist-packages (from spacy<3.6.0,>=3.5.0->en-core-web-sm==3.5.0) (1.1.1)\n",
            "Requirement already satisfied: cymem<2.1.0,>=2.0.2 in /usr/local/lib/python3.10/dist-packages (from spacy<3.6.0,>=3.5.0->en-core-web-sm==3.5.0) (2.0.7)\n",
            "Requirement already satisfied: catalogue<2.1.0,>=2.0.6 in /usr/local/lib/python3.10/dist-packages (from spacy<3.6.0,>=3.5.0->en-core-web-sm==3.5.0) (2.0.8)\n",
            "Requirement already satisfied: smart-open<7.0.0,>=5.2.1 in /usr/local/lib/python3.10/dist-packages (from spacy<3.6.0,>=3.5.0->en-core-web-sm==3.5.0) (6.3.0)\n",
            "Requirement already satisfied: tqdm<5.0.0,>=4.38.0 in /usr/local/lib/python3.10/dist-packages (from spacy<3.6.0,>=3.5.0->en-core-web-sm==3.5.0) (4.65.0)\n",
            "Requirement already satisfied: langcodes<4.0.0,>=3.2.0 in /usr/local/lib/python3.10/dist-packages (from spacy<3.6.0,>=3.5.0->en-core-web-sm==3.5.0) (3.3.0)\n",
            "Requirement already satisfied: jinja2 in /usr/local/lib/python3.10/dist-packages (from spacy<3.6.0,>=3.5.0->en-core-web-sm==3.5.0) (3.1.2)\n",
            "Requirement already satisfied: setuptools in /usr/local/lib/python3.10/dist-packages (from spacy<3.6.0,>=3.5.0->en-core-web-sm==3.5.0) (67.7.2)\n",
            "Requirement already satisfied: requests<3.0.0,>=2.13.0 in /usr/local/lib/python3.10/dist-packages (from spacy<3.6.0,>=3.5.0->en-core-web-sm==3.5.0) (2.27.1)\n",
            "Requirement already satisfied: pydantic!=1.8,!=1.8.1,<1.11.0,>=1.7.4 in /usr/local/lib/python3.10/dist-packages (from spacy<3.6.0,>=3.5.0->en-core-web-sm==3.5.0) (1.10.7)\n",
            "Requirement already satisfied: srsly<3.0.0,>=2.4.3 in /usr/local/lib/python3.10/dist-packages (from spacy<3.6.0,>=3.5.0->en-core-web-sm==3.5.0) (2.4.6)\n",
            "Requirement already satisfied: typing-extensions>=4.2.0 in /usr/local/lib/python3.10/dist-packages (from pydantic!=1.8,!=1.8.1,<1.11.0,>=1.7.4->spacy<3.6.0,>=3.5.0->en-core-web-sm==3.5.0) (4.5.0)\n",
            "Requirement already satisfied: urllib3<1.27,>=1.21.1 in /usr/local/lib/python3.10/dist-packages (from requests<3.0.0,>=2.13.0->spacy<3.6.0,>=3.5.0->en-core-web-sm==3.5.0) (1.26.15)\n",
            "Requirement already satisfied: idna<4,>=2.5 in /usr/local/lib/python3.10/dist-packages (from requests<3.0.0,>=2.13.0->spacy<3.6.0,>=3.5.0->en-core-web-sm==3.5.0) (3.4)\n",
            "Requirement already satisfied: charset-normalizer~=2.0.0 in /usr/local/lib/python3.10/dist-packages (from requests<3.0.0,>=2.13.0->spacy<3.6.0,>=3.5.0->en-core-web-sm==3.5.0) (2.0.12)\n",
            "Requirement already satisfied: certifi>=2017.4.17 in /usr/local/lib/python3.10/dist-packages (from requests<3.0.0,>=2.13.0->spacy<3.6.0,>=3.5.0->en-core-web-sm==3.5.0) (2022.12.7)\n",
            "Requirement already satisfied: blis<0.8.0,>=0.7.8 in /usr/local/lib/python3.10/dist-packages (from thinc<8.2.0,>=8.1.8->spacy<3.6.0,>=3.5.0->en-core-web-sm==3.5.0) (0.7.9)\n",
            "Requirement already satisfied: confection<1.0.0,>=0.0.1 in /usr/local/lib/python3.10/dist-packages (from thinc<8.2.0,>=8.1.8->spacy<3.6.0,>=3.5.0->en-core-web-sm==3.5.0) (0.0.4)\n",
            "Requirement already satisfied: click<9.0.0,>=7.1.1 in /usr/local/lib/python3.10/dist-packages (from typer<0.8.0,>=0.3.0->spacy<3.6.0,>=3.5.0->en-core-web-sm==3.5.0) (8.1.3)\n",
            "Requirement already satisfied: MarkupSafe>=2.0 in /usr/local/lib/python3.10/dist-packages (from jinja2->spacy<3.6.0,>=3.5.0->en-core-web-sm==3.5.0) (2.1.2)\n",
            "\u001b[38;5;2m✔ Download and installation successful\u001b[0m\n",
            "You can now load the package via spacy.load('en_core_web_sm')\n"
          ]
        }
      ],
      "source": [
        "## command through anaconda command prompt\n",
        "!python -m spacy download en"
      ]
    },
    {
      "cell_type": "markdown",
      "metadata": {
        "id": "Ty_lBOpg3igN"
      },
      "source": [
        "#Problem-1)\n",
        "\n",
        "Perform sentimental analysis on the Elon-musk tweets (Elon-musk.csv)"
      ]
    },
    {
      "cell_type": "markdown",
      "metadata": {
        "id": "Y7A1I0513yKH"
      },
      "source": [
        "#Solution:"
      ]
    },
    {
      "cell_type": "code",
      "execution_count": null,
      "metadata": {
        "colab": {
          "base_uri": "https://localhost:8080/",
          "height": 73
        },
        "id": "UvhFcakCmzmp",
        "outputId": "e54fd032-73e2-4d5b-e7a0-041a7c483ea4"
      },
      "outputs": [
        {
          "output_type": "display_data",
          "data": {
            "text/plain": [
              "<IPython.core.display.HTML object>"
            ],
            "text/html": [
              "\n",
              "     <input type=\"file\" id=\"files-ab918407-2b24-4dfb-b872-704d291492da\" name=\"files[]\" multiple disabled\n",
              "        style=\"border:none\" />\n",
              "     <output id=\"result-ab918407-2b24-4dfb-b872-704d291492da\">\n",
              "      Upload widget is only available when the cell has been executed in the\n",
              "      current browser session. Please rerun this cell to enable.\n",
              "      </output>\n",
              "      <script>// Copyright 2017 Google LLC\n",
              "//\n",
              "// Licensed under the Apache License, Version 2.0 (the \"License\");\n",
              "// you may not use this file except in compliance with the License.\n",
              "// You may obtain a copy of the License at\n",
              "//\n",
              "//      http://www.apache.org/licenses/LICENSE-2.0\n",
              "//\n",
              "// Unless required by applicable law or agreed to in writing, software\n",
              "// distributed under the License is distributed on an \"AS IS\" BASIS,\n",
              "// WITHOUT WARRANTIES OR CONDITIONS OF ANY KIND, either express or implied.\n",
              "// See the License for the specific language governing permissions and\n",
              "// limitations under the License.\n",
              "\n",
              "/**\n",
              " * @fileoverview Helpers for google.colab Python module.\n",
              " */\n",
              "(function(scope) {\n",
              "function span(text, styleAttributes = {}) {\n",
              "  const element = document.createElement('span');\n",
              "  element.textContent = text;\n",
              "  for (const key of Object.keys(styleAttributes)) {\n",
              "    element.style[key] = styleAttributes[key];\n",
              "  }\n",
              "  return element;\n",
              "}\n",
              "\n",
              "// Max number of bytes which will be uploaded at a time.\n",
              "const MAX_PAYLOAD_SIZE = 100 * 1024;\n",
              "\n",
              "function _uploadFiles(inputId, outputId) {\n",
              "  const steps = uploadFilesStep(inputId, outputId);\n",
              "  const outputElement = document.getElementById(outputId);\n",
              "  // Cache steps on the outputElement to make it available for the next call\n",
              "  // to uploadFilesContinue from Python.\n",
              "  outputElement.steps = steps;\n",
              "\n",
              "  return _uploadFilesContinue(outputId);\n",
              "}\n",
              "\n",
              "// This is roughly an async generator (not supported in the browser yet),\n",
              "// where there are multiple asynchronous steps and the Python side is going\n",
              "// to poll for completion of each step.\n",
              "// This uses a Promise to block the python side on completion of each step,\n",
              "// then passes the result of the previous step as the input to the next step.\n",
              "function _uploadFilesContinue(outputId) {\n",
              "  const outputElement = document.getElementById(outputId);\n",
              "  const steps = outputElement.steps;\n",
              "\n",
              "  const next = steps.next(outputElement.lastPromiseValue);\n",
              "  return Promise.resolve(next.value.promise).then((value) => {\n",
              "    // Cache the last promise value to make it available to the next\n",
              "    // step of the generator.\n",
              "    outputElement.lastPromiseValue = value;\n",
              "    return next.value.response;\n",
              "  });\n",
              "}\n",
              "\n",
              "/**\n",
              " * Generator function which is called between each async step of the upload\n",
              " * process.\n",
              " * @param {string} inputId Element ID of the input file picker element.\n",
              " * @param {string} outputId Element ID of the output display.\n",
              " * @return {!Iterable<!Object>} Iterable of next steps.\n",
              " */\n",
              "function* uploadFilesStep(inputId, outputId) {\n",
              "  const inputElement = document.getElementById(inputId);\n",
              "  inputElement.disabled = false;\n",
              "\n",
              "  const outputElement = document.getElementById(outputId);\n",
              "  outputElement.innerHTML = '';\n",
              "\n",
              "  const pickedPromise = new Promise((resolve) => {\n",
              "    inputElement.addEventListener('change', (e) => {\n",
              "      resolve(e.target.files);\n",
              "    });\n",
              "  });\n",
              "\n",
              "  const cancel = document.createElement('button');\n",
              "  inputElement.parentElement.appendChild(cancel);\n",
              "  cancel.textContent = 'Cancel upload';\n",
              "  const cancelPromise = new Promise((resolve) => {\n",
              "    cancel.onclick = () => {\n",
              "      resolve(null);\n",
              "    };\n",
              "  });\n",
              "\n",
              "  // Wait for the user to pick the files.\n",
              "  const files = yield {\n",
              "    promise: Promise.race([pickedPromise, cancelPromise]),\n",
              "    response: {\n",
              "      action: 'starting',\n",
              "    }\n",
              "  };\n",
              "\n",
              "  cancel.remove();\n",
              "\n",
              "  // Disable the input element since further picks are not allowed.\n",
              "  inputElement.disabled = true;\n",
              "\n",
              "  if (!files) {\n",
              "    return {\n",
              "      response: {\n",
              "        action: 'complete',\n",
              "      }\n",
              "    };\n",
              "  }\n",
              "\n",
              "  for (const file of files) {\n",
              "    const li = document.createElement('li');\n",
              "    li.append(span(file.name, {fontWeight: 'bold'}));\n",
              "    li.append(span(\n",
              "        `(${file.type || 'n/a'}) - ${file.size} bytes, ` +\n",
              "        `last modified: ${\n",
              "            file.lastModifiedDate ? file.lastModifiedDate.toLocaleDateString() :\n",
              "                                    'n/a'} - `));\n",
              "    const percent = span('0% done');\n",
              "    li.appendChild(percent);\n",
              "\n",
              "    outputElement.appendChild(li);\n",
              "\n",
              "    const fileDataPromise = new Promise((resolve) => {\n",
              "      const reader = new FileReader();\n",
              "      reader.onload = (e) => {\n",
              "        resolve(e.target.result);\n",
              "      };\n",
              "      reader.readAsArrayBuffer(file);\n",
              "    });\n",
              "    // Wait for the data to be ready.\n",
              "    let fileData = yield {\n",
              "      promise: fileDataPromise,\n",
              "      response: {\n",
              "        action: 'continue',\n",
              "      }\n",
              "    };\n",
              "\n",
              "    // Use a chunked sending to avoid message size limits. See b/62115660.\n",
              "    let position = 0;\n",
              "    do {\n",
              "      const length = Math.min(fileData.byteLength - position, MAX_PAYLOAD_SIZE);\n",
              "      const chunk = new Uint8Array(fileData, position, length);\n",
              "      position += length;\n",
              "\n",
              "      const base64 = btoa(String.fromCharCode.apply(null, chunk));\n",
              "      yield {\n",
              "        response: {\n",
              "          action: 'append',\n",
              "          file: file.name,\n",
              "          data: base64,\n",
              "        },\n",
              "      };\n",
              "\n",
              "      let percentDone = fileData.byteLength === 0 ?\n",
              "          100 :\n",
              "          Math.round((position / fileData.byteLength) * 100);\n",
              "      percent.textContent = `${percentDone}% done`;\n",
              "\n",
              "    } while (position < fileData.byteLength);\n",
              "  }\n",
              "\n",
              "  // All done.\n",
              "  yield {\n",
              "    response: {\n",
              "      action: 'complete',\n",
              "    }\n",
              "  };\n",
              "}\n",
              "\n",
              "scope.google = scope.google || {};\n",
              "scope.google.colab = scope.google.colab || {};\n",
              "scope.google.colab._files = {\n",
              "  _uploadFiles,\n",
              "  _uploadFilesContinue,\n",
              "};\n",
              "})(self);\n",
              "</script> "
            ]
          },
          "metadata": {}
        },
        {
          "output_type": "stream",
          "name": "stdout",
          "text": [
            "Saving Elon_musk.csv to Elon_musk.csv\n"
          ]
        }
      ],
      "source": [
        "#data loading\n",
        "from google.colab import files\n",
        "uploaded=files.upload()"
      ]
    },
    {
      "cell_type": "code",
      "execution_count": null,
      "metadata": {
        "id": "h-PBPciR5daz",
        "colab": {
          "base_uri": "https://localhost:8080/",
          "height": 423
        },
        "outputId": "f25f152c-86f4-4b06-85ce-1e26760574da"
      },
      "outputs": [
        {
          "output_type": "execute_result",
          "data": {
            "text/plain": [
              "                                                   Text\n",
              "1                                @kunalb11 Im an alien\n",
              "2     @ID_AA_Carmack Ray tracing on Cyberpunk with H...\n",
              "3                   @joerogan @Spotify Great interview!\n",
              "4                       @gtera27 Doge is underestimated\n",
              "5     @teslacn Congratulations Tesla China for amazi...\n",
              "...                                                 ...\n",
              "1995  @flcnhvy True, it sounds so surreal, but the n...\n",
              "1996  @PPathole Make sure to read ur terms &amp; con...\n",
              "1997                @TeslaGong @PPathole Samwise Gamgee\n",
              "1998  @PPathole Altho Dumb and Dumber is <U+0001F525...\n",
              "1999                          Progress update August 28\n",
              "\n",
              "[1999 rows x 1 columns]"
            ],
            "text/html": [
              "\n",
              "  <div id=\"df-418b2e40-5689-4c81-8a26-b76ef6c97922\">\n",
              "    <div class=\"colab-df-container\">\n",
              "      <div>\n",
              "<style scoped>\n",
              "    .dataframe tbody tr th:only-of-type {\n",
              "        vertical-align: middle;\n",
              "    }\n",
              "\n",
              "    .dataframe tbody tr th {\n",
              "        vertical-align: top;\n",
              "    }\n",
              "\n",
              "    .dataframe thead th {\n",
              "        text-align: right;\n",
              "    }\n",
              "</style>\n",
              "<table border=\"1\" class=\"dataframe\">\n",
              "  <thead>\n",
              "    <tr style=\"text-align: right;\">\n",
              "      <th></th>\n",
              "      <th>Text</th>\n",
              "    </tr>\n",
              "  </thead>\n",
              "  <tbody>\n",
              "    <tr>\n",
              "      <th>1</th>\n",
              "      <td>@kunalb11 Im an alien</td>\n",
              "    </tr>\n",
              "    <tr>\n",
              "      <th>2</th>\n",
              "      <td>@ID_AA_Carmack Ray tracing on Cyberpunk with H...</td>\n",
              "    </tr>\n",
              "    <tr>\n",
              "      <th>3</th>\n",
              "      <td>@joerogan @Spotify Great interview!</td>\n",
              "    </tr>\n",
              "    <tr>\n",
              "      <th>4</th>\n",
              "      <td>@gtera27 Doge is underestimated</td>\n",
              "    </tr>\n",
              "    <tr>\n",
              "      <th>5</th>\n",
              "      <td>@teslacn Congratulations Tesla China for amazi...</td>\n",
              "    </tr>\n",
              "    <tr>\n",
              "      <th>...</th>\n",
              "      <td>...</td>\n",
              "    </tr>\n",
              "    <tr>\n",
              "      <th>1995</th>\n",
              "      <td>@flcnhvy True, it sounds so surreal, but the n...</td>\n",
              "    </tr>\n",
              "    <tr>\n",
              "      <th>1996</th>\n",
              "      <td>@PPathole Make sure to read ur terms &amp;amp; con...</td>\n",
              "    </tr>\n",
              "    <tr>\n",
              "      <th>1997</th>\n",
              "      <td>@TeslaGong @PPathole Samwise Gamgee</td>\n",
              "    </tr>\n",
              "    <tr>\n",
              "      <th>1998</th>\n",
              "      <td>@PPathole Altho Dumb and Dumber is &lt;U+0001F525...</td>\n",
              "    </tr>\n",
              "    <tr>\n",
              "      <th>1999</th>\n",
              "      <td>Progress update August 28</td>\n",
              "    </tr>\n",
              "  </tbody>\n",
              "</table>\n",
              "<p>1999 rows × 1 columns</p>\n",
              "</div>\n",
              "      <button class=\"colab-df-convert\" onclick=\"convertToInteractive('df-418b2e40-5689-4c81-8a26-b76ef6c97922')\"\n",
              "              title=\"Convert this dataframe to an interactive table.\"\n",
              "              style=\"display:none;\">\n",
              "        \n",
              "  <svg xmlns=\"http://www.w3.org/2000/svg\" height=\"24px\"viewBox=\"0 0 24 24\"\n",
              "       width=\"24px\">\n",
              "    <path d=\"M0 0h24v24H0V0z\" fill=\"none\"/>\n",
              "    <path d=\"M18.56 5.44l.94 2.06.94-2.06 2.06-.94-2.06-.94-.94-2.06-.94 2.06-2.06.94zm-11 1L8.5 8.5l.94-2.06 2.06-.94-2.06-.94L8.5 2.5l-.94 2.06-2.06.94zm10 10l.94 2.06.94-2.06 2.06-.94-2.06-.94-.94-2.06-.94 2.06-2.06.94z\"/><path d=\"M17.41 7.96l-1.37-1.37c-.4-.4-.92-.59-1.43-.59-.52 0-1.04.2-1.43.59L10.3 9.45l-7.72 7.72c-.78.78-.78 2.05 0 2.83L4 21.41c.39.39.9.59 1.41.59.51 0 1.02-.2 1.41-.59l7.78-7.78 2.81-2.81c.8-.78.8-2.07 0-2.86zM5.41 20L4 18.59l7.72-7.72 1.47 1.35L5.41 20z\"/>\n",
              "  </svg>\n",
              "      </button>\n",
              "      \n",
              "  <style>\n",
              "    .colab-df-container {\n",
              "      display:flex;\n",
              "      flex-wrap:wrap;\n",
              "      gap: 12px;\n",
              "    }\n",
              "\n",
              "    .colab-df-convert {\n",
              "      background-color: #E8F0FE;\n",
              "      border: none;\n",
              "      border-radius: 50%;\n",
              "      cursor: pointer;\n",
              "      display: none;\n",
              "      fill: #1967D2;\n",
              "      height: 32px;\n",
              "      padding: 0 0 0 0;\n",
              "      width: 32px;\n",
              "    }\n",
              "\n",
              "    .colab-df-convert:hover {\n",
              "      background-color: #E2EBFA;\n",
              "      box-shadow: 0px 1px 2px rgba(60, 64, 67, 0.3), 0px 1px 3px 1px rgba(60, 64, 67, 0.15);\n",
              "      fill: #174EA6;\n",
              "    }\n",
              "\n",
              "    [theme=dark] .colab-df-convert {\n",
              "      background-color: #3B4455;\n",
              "      fill: #D2E3FC;\n",
              "    }\n",
              "\n",
              "    [theme=dark] .colab-df-convert:hover {\n",
              "      background-color: #434B5C;\n",
              "      box-shadow: 0px 1px 3px 1px rgba(0, 0, 0, 0.15);\n",
              "      filter: drop-shadow(0px 1px 2px rgba(0, 0, 0, 0.3));\n",
              "      fill: #FFFFFF;\n",
              "    }\n",
              "  </style>\n",
              "\n",
              "      <script>\n",
              "        const buttonEl =\n",
              "          document.querySelector('#df-418b2e40-5689-4c81-8a26-b76ef6c97922 button.colab-df-convert');\n",
              "        buttonEl.style.display =\n",
              "          google.colab.kernel.accessAllowed ? 'block' : 'none';\n",
              "\n",
              "        async function convertToInteractive(key) {\n",
              "          const element = document.querySelector('#df-418b2e40-5689-4c81-8a26-b76ef6c97922');\n",
              "          const dataTable =\n",
              "            await google.colab.kernel.invokeFunction('convertToInteractive',\n",
              "                                                     [key], {});\n",
              "          if (!dataTable) return;\n",
              "\n",
              "          const docLinkHtml = 'Like what you see? Visit the ' +\n",
              "            '<a target=\"_blank\" href=https://colab.research.google.com/notebooks/data_table.ipynb>data table notebook</a>'\n",
              "            + ' to learn more about interactive tables.';\n",
              "          element.innerHTML = '';\n",
              "          dataTable['output_type'] = 'display_data';\n",
              "          await google.colab.output.renderOutput(dataTable, element);\n",
              "          const docLink = document.createElement('div');\n",
              "          docLink.innerHTML = docLinkHtml;\n",
              "          element.appendChild(docLink);\n",
              "        }\n",
              "      </script>\n",
              "    </div>\n",
              "  </div>\n",
              "  "
            ]
          },
          "metadata": {},
          "execution_count": 4
        }
      ],
      "source": [
        "pd.set_option('display.max_rows', 10)\n",
        "elon_musk=pd.read_csv('Elon_musk.csv',index_col=0,encoding='ISO-8859-1')\n",
        "elon_musk"
      ]
    },
    {
      "cell_type": "markdown",
      "metadata": {
        "id": "baBQiY-Z6EVy"
      },
      "source": [
        "##Basic & EDA"
      ]
    },
    {
      "cell_type": "code",
      "execution_count": null,
      "metadata": {
        "id": "rptUkGwh566H",
        "colab": {
          "base_uri": "https://localhost:8080/"
        },
        "outputId": "b7ceca5f-841a-40c0-a9a6-9cf14126a159"
      },
      "outputs": [
        {
          "output_type": "execute_result",
          "data": {
            "text/plain": [
              "(1999, 1)"
            ]
          },
          "metadata": {},
          "execution_count": 5
        }
      ],
      "source": [
        "elon_musk.shape"
      ]
    },
    {
      "cell_type": "code",
      "execution_count": null,
      "metadata": {
        "id": "5Pm7AW6B6TQy",
        "colab": {
          "base_uri": "https://localhost:8080/"
        },
        "outputId": "cf9dca1d-d73b-4ede-cad8-61b34d1599de"
      },
      "outputs": [
        {
          "output_type": "stream",
          "name": "stdout",
          "text": [
            "<class 'pandas.core.frame.DataFrame'>\n",
            "Int64Index: 1999 entries, 1 to 1999\n",
            "Data columns (total 1 columns):\n",
            " #   Column  Non-Null Count  Dtype \n",
            "---  ------  --------------  ----- \n",
            " 0   Text    1999 non-null   object\n",
            "dtypes: object(1)\n",
            "memory usage: 31.2+ KB\n"
          ]
        }
      ],
      "source": [
        "elon_musk.info()"
      ]
    },
    {
      "cell_type": "code",
      "execution_count": null,
      "metadata": {
        "id": "vdWccQf66Ze9",
        "colab": {
          "base_uri": "https://localhost:8080/"
        },
        "outputId": "2db34eb1-a787-4af2-d252-401fff2f49ad"
      },
      "outputs": [
        {
          "output_type": "execute_result",
          "data": {
            "text/plain": [
              "Text    0\n",
              "dtype: int64"
            ]
          },
          "metadata": {},
          "execution_count": 7
        }
      ],
      "source": [
        "elon_musk.isna().sum()"
      ]
    },
    {
      "cell_type": "markdown",
      "metadata": {
        "id": "TwyHOYGy6rik"
      },
      "source": [
        "*  There is no null values in the dataset."
      ]
    },
    {
      "cell_type": "code",
      "execution_count": null,
      "metadata": {
        "id": "ZVOVvFFD6l4h",
        "colab": {
          "base_uri": "https://localhost:8080/"
        },
        "outputId": "f802bb2b-4590-47fb-bb1c-9e1352964ab2"
      },
      "outputs": [
        {
          "output_type": "execute_result",
          "data": {
            "text/plain": [
              "False    1997\n",
              "True        2\n",
              "dtype: int64"
            ]
          },
          "metadata": {},
          "execution_count": 8
        }
      ],
      "source": [
        "elon_musk.duplicated().value_counts()"
      ]
    },
    {
      "cell_type": "code",
      "execution_count": null,
      "metadata": {
        "id": "_kDTh7UW6-kg",
        "colab": {
          "base_uri": "https://localhost:8080/",
          "height": 112
        },
        "outputId": "d2d83747-9100-46dd-ee1a-217d12bb71da"
      },
      "outputs": [
        {
          "output_type": "execute_result",
          "data": {
            "text/plain": [
              "                                                 Text\n",
              "325  The most entertaining outcome is the most likely\n",
              "656                             @westcoastbill Indeed"
            ],
            "text/html": [
              "\n",
              "  <div id=\"df-3b7ab1b3-4ef3-4c20-8a44-f87706bfcd47\">\n",
              "    <div class=\"colab-df-container\">\n",
              "      <div>\n",
              "<style scoped>\n",
              "    .dataframe tbody tr th:only-of-type {\n",
              "        vertical-align: middle;\n",
              "    }\n",
              "\n",
              "    .dataframe tbody tr th {\n",
              "        vertical-align: top;\n",
              "    }\n",
              "\n",
              "    .dataframe thead th {\n",
              "        text-align: right;\n",
              "    }\n",
              "</style>\n",
              "<table border=\"1\" class=\"dataframe\">\n",
              "  <thead>\n",
              "    <tr style=\"text-align: right;\">\n",
              "      <th></th>\n",
              "      <th>Text</th>\n",
              "    </tr>\n",
              "  </thead>\n",
              "  <tbody>\n",
              "    <tr>\n",
              "      <th>325</th>\n",
              "      <td>The most entertaining outcome is the most likely</td>\n",
              "    </tr>\n",
              "    <tr>\n",
              "      <th>656</th>\n",
              "      <td>@westcoastbill Indeed</td>\n",
              "    </tr>\n",
              "  </tbody>\n",
              "</table>\n",
              "</div>\n",
              "      <button class=\"colab-df-convert\" onclick=\"convertToInteractive('df-3b7ab1b3-4ef3-4c20-8a44-f87706bfcd47')\"\n",
              "              title=\"Convert this dataframe to an interactive table.\"\n",
              "              style=\"display:none;\">\n",
              "        \n",
              "  <svg xmlns=\"http://www.w3.org/2000/svg\" height=\"24px\"viewBox=\"0 0 24 24\"\n",
              "       width=\"24px\">\n",
              "    <path d=\"M0 0h24v24H0V0z\" fill=\"none\"/>\n",
              "    <path d=\"M18.56 5.44l.94 2.06.94-2.06 2.06-.94-2.06-.94-.94-2.06-.94 2.06-2.06.94zm-11 1L8.5 8.5l.94-2.06 2.06-.94-2.06-.94L8.5 2.5l-.94 2.06-2.06.94zm10 10l.94 2.06.94-2.06 2.06-.94-2.06-.94-.94-2.06-.94 2.06-2.06.94z\"/><path d=\"M17.41 7.96l-1.37-1.37c-.4-.4-.92-.59-1.43-.59-.52 0-1.04.2-1.43.59L10.3 9.45l-7.72 7.72c-.78.78-.78 2.05 0 2.83L4 21.41c.39.39.9.59 1.41.59.51 0 1.02-.2 1.41-.59l7.78-7.78 2.81-2.81c.8-.78.8-2.07 0-2.86zM5.41 20L4 18.59l7.72-7.72 1.47 1.35L5.41 20z\"/>\n",
              "  </svg>\n",
              "      </button>\n",
              "      \n",
              "  <style>\n",
              "    .colab-df-container {\n",
              "      display:flex;\n",
              "      flex-wrap:wrap;\n",
              "      gap: 12px;\n",
              "    }\n",
              "\n",
              "    .colab-df-convert {\n",
              "      background-color: #E8F0FE;\n",
              "      border: none;\n",
              "      border-radius: 50%;\n",
              "      cursor: pointer;\n",
              "      display: none;\n",
              "      fill: #1967D2;\n",
              "      height: 32px;\n",
              "      padding: 0 0 0 0;\n",
              "      width: 32px;\n",
              "    }\n",
              "\n",
              "    .colab-df-convert:hover {\n",
              "      background-color: #E2EBFA;\n",
              "      box-shadow: 0px 1px 2px rgba(60, 64, 67, 0.3), 0px 1px 3px 1px rgba(60, 64, 67, 0.15);\n",
              "      fill: #174EA6;\n",
              "    }\n",
              "\n",
              "    [theme=dark] .colab-df-convert {\n",
              "      background-color: #3B4455;\n",
              "      fill: #D2E3FC;\n",
              "    }\n",
              "\n",
              "    [theme=dark] .colab-df-convert:hover {\n",
              "      background-color: #434B5C;\n",
              "      box-shadow: 0px 1px 3px 1px rgba(0, 0, 0, 0.15);\n",
              "      filter: drop-shadow(0px 1px 2px rgba(0, 0, 0, 0.3));\n",
              "      fill: #FFFFFF;\n",
              "    }\n",
              "  </style>\n",
              "\n",
              "      <script>\n",
              "        const buttonEl =\n",
              "          document.querySelector('#df-3b7ab1b3-4ef3-4c20-8a44-f87706bfcd47 button.colab-df-convert');\n",
              "        buttonEl.style.display =\n",
              "          google.colab.kernel.accessAllowed ? 'block' : 'none';\n",
              "\n",
              "        async function convertToInteractive(key) {\n",
              "          const element = document.querySelector('#df-3b7ab1b3-4ef3-4c20-8a44-f87706bfcd47');\n",
              "          const dataTable =\n",
              "            await google.colab.kernel.invokeFunction('convertToInteractive',\n",
              "                                                     [key], {});\n",
              "          if (!dataTable) return;\n",
              "\n",
              "          const docLinkHtml = 'Like what you see? Visit the ' +\n",
              "            '<a target=\"_blank\" href=https://colab.research.google.com/notebooks/data_table.ipynb>data table notebook</a>'\n",
              "            + ' to learn more about interactive tables.';\n",
              "          element.innerHTML = '';\n",
              "          dataTable['output_type'] = 'display_data';\n",
              "          await google.colab.output.renderOutput(dataTable, element);\n",
              "          const docLink = document.createElement('div');\n",
              "          docLink.innerHTML = docLinkHtml;\n",
              "          element.appendChild(docLink);\n",
              "        }\n",
              "      </script>\n",
              "    </div>\n",
              "  </div>\n",
              "  "
            ]
          },
          "metadata": {},
          "execution_count": 9
        }
      ],
      "source": [
        "elon_musk[elon_musk.duplicated()]"
      ]
    },
    {
      "cell_type": "code",
      "execution_count": null,
      "metadata": {
        "id": "tgK_TJ-S7PMB",
        "colab": {
          "base_uri": "https://localhost:8080/",
          "height": 423
        },
        "outputId": "3ed53ec2-9cda-48a4-fc19-3522d59650d7"
      },
      "outputs": [
        {
          "output_type": "execute_result",
          "data": {
            "text/plain": [
              "                                                   Text\n",
              "0                                @kunalb11 Im an alien\n",
              "1     @ID_AA_Carmack Ray tracing on Cyberpunk with H...\n",
              "2                   @joerogan @Spotify Great interview!\n",
              "3                       @gtera27 Doge is underestimated\n",
              "4     @teslacn Congratulations Tesla China for amazi...\n",
              "...                                                 ...\n",
              "1992  @flcnhvy True, it sounds so surreal, but the n...\n",
              "1993  @PPathole Make sure to read ur terms &amp; con...\n",
              "1994                @TeslaGong @PPathole Samwise Gamgee\n",
              "1995  @PPathole Altho Dumb and Dumber is <U+0001F525...\n",
              "1996                          Progress update August 28\n",
              "\n",
              "[1997 rows x 1 columns]"
            ],
            "text/html": [
              "\n",
              "  <div id=\"df-78a835f8-6b67-4561-baaa-07ee5d2c4e82\">\n",
              "    <div class=\"colab-df-container\">\n",
              "      <div>\n",
              "<style scoped>\n",
              "    .dataframe tbody tr th:only-of-type {\n",
              "        vertical-align: middle;\n",
              "    }\n",
              "\n",
              "    .dataframe tbody tr th {\n",
              "        vertical-align: top;\n",
              "    }\n",
              "\n",
              "    .dataframe thead th {\n",
              "        text-align: right;\n",
              "    }\n",
              "</style>\n",
              "<table border=\"1\" class=\"dataframe\">\n",
              "  <thead>\n",
              "    <tr style=\"text-align: right;\">\n",
              "      <th></th>\n",
              "      <th>Text</th>\n",
              "    </tr>\n",
              "  </thead>\n",
              "  <tbody>\n",
              "    <tr>\n",
              "      <th>0</th>\n",
              "      <td>@kunalb11 Im an alien</td>\n",
              "    </tr>\n",
              "    <tr>\n",
              "      <th>1</th>\n",
              "      <td>@ID_AA_Carmack Ray tracing on Cyberpunk with H...</td>\n",
              "    </tr>\n",
              "    <tr>\n",
              "      <th>2</th>\n",
              "      <td>@joerogan @Spotify Great interview!</td>\n",
              "    </tr>\n",
              "    <tr>\n",
              "      <th>3</th>\n",
              "      <td>@gtera27 Doge is underestimated</td>\n",
              "    </tr>\n",
              "    <tr>\n",
              "      <th>4</th>\n",
              "      <td>@teslacn Congratulations Tesla China for amazi...</td>\n",
              "    </tr>\n",
              "    <tr>\n",
              "      <th>...</th>\n",
              "      <td>...</td>\n",
              "    </tr>\n",
              "    <tr>\n",
              "      <th>1992</th>\n",
              "      <td>@flcnhvy True, it sounds so surreal, but the n...</td>\n",
              "    </tr>\n",
              "    <tr>\n",
              "      <th>1993</th>\n",
              "      <td>@PPathole Make sure to read ur terms &amp;amp; con...</td>\n",
              "    </tr>\n",
              "    <tr>\n",
              "      <th>1994</th>\n",
              "      <td>@TeslaGong @PPathole Samwise Gamgee</td>\n",
              "    </tr>\n",
              "    <tr>\n",
              "      <th>1995</th>\n",
              "      <td>@PPathole Altho Dumb and Dumber is &lt;U+0001F525...</td>\n",
              "    </tr>\n",
              "    <tr>\n",
              "      <th>1996</th>\n",
              "      <td>Progress update August 28</td>\n",
              "    </tr>\n",
              "  </tbody>\n",
              "</table>\n",
              "<p>1997 rows × 1 columns</p>\n",
              "</div>\n",
              "      <button class=\"colab-df-convert\" onclick=\"convertToInteractive('df-78a835f8-6b67-4561-baaa-07ee5d2c4e82')\"\n",
              "              title=\"Convert this dataframe to an interactive table.\"\n",
              "              style=\"display:none;\">\n",
              "        \n",
              "  <svg xmlns=\"http://www.w3.org/2000/svg\" height=\"24px\"viewBox=\"0 0 24 24\"\n",
              "       width=\"24px\">\n",
              "    <path d=\"M0 0h24v24H0V0z\" fill=\"none\"/>\n",
              "    <path d=\"M18.56 5.44l.94 2.06.94-2.06 2.06-.94-2.06-.94-.94-2.06-.94 2.06-2.06.94zm-11 1L8.5 8.5l.94-2.06 2.06-.94-2.06-.94L8.5 2.5l-.94 2.06-2.06.94zm10 10l.94 2.06.94-2.06 2.06-.94-2.06-.94-.94-2.06-.94 2.06-2.06.94z\"/><path d=\"M17.41 7.96l-1.37-1.37c-.4-.4-.92-.59-1.43-.59-.52 0-1.04.2-1.43.59L10.3 9.45l-7.72 7.72c-.78.78-.78 2.05 0 2.83L4 21.41c.39.39.9.59 1.41.59.51 0 1.02-.2 1.41-.59l7.78-7.78 2.81-2.81c.8-.78.8-2.07 0-2.86zM5.41 20L4 18.59l7.72-7.72 1.47 1.35L5.41 20z\"/>\n",
              "  </svg>\n",
              "      </button>\n",
              "      \n",
              "  <style>\n",
              "    .colab-df-container {\n",
              "      display:flex;\n",
              "      flex-wrap:wrap;\n",
              "      gap: 12px;\n",
              "    }\n",
              "\n",
              "    .colab-df-convert {\n",
              "      background-color: #E8F0FE;\n",
              "      border: none;\n",
              "      border-radius: 50%;\n",
              "      cursor: pointer;\n",
              "      display: none;\n",
              "      fill: #1967D2;\n",
              "      height: 32px;\n",
              "      padding: 0 0 0 0;\n",
              "      width: 32px;\n",
              "    }\n",
              "\n",
              "    .colab-df-convert:hover {\n",
              "      background-color: #E2EBFA;\n",
              "      box-shadow: 0px 1px 2px rgba(60, 64, 67, 0.3), 0px 1px 3px 1px rgba(60, 64, 67, 0.15);\n",
              "      fill: #174EA6;\n",
              "    }\n",
              "\n",
              "    [theme=dark] .colab-df-convert {\n",
              "      background-color: #3B4455;\n",
              "      fill: #D2E3FC;\n",
              "    }\n",
              "\n",
              "    [theme=dark] .colab-df-convert:hover {\n",
              "      background-color: #434B5C;\n",
              "      box-shadow: 0px 1px 3px 1px rgba(0, 0, 0, 0.15);\n",
              "      filter: drop-shadow(0px 1px 2px rgba(0, 0, 0, 0.3));\n",
              "      fill: #FFFFFF;\n",
              "    }\n",
              "  </style>\n",
              "\n",
              "      <script>\n",
              "        const buttonEl =\n",
              "          document.querySelector('#df-78a835f8-6b67-4561-baaa-07ee5d2c4e82 button.colab-df-convert');\n",
              "        buttonEl.style.display =\n",
              "          google.colab.kernel.accessAllowed ? 'block' : 'none';\n",
              "\n",
              "        async function convertToInteractive(key) {\n",
              "          const element = document.querySelector('#df-78a835f8-6b67-4561-baaa-07ee5d2c4e82');\n",
              "          const dataTable =\n",
              "            await google.colab.kernel.invokeFunction('convertToInteractive',\n",
              "                                                     [key], {});\n",
              "          if (!dataTable) return;\n",
              "\n",
              "          const docLinkHtml = 'Like what you see? Visit the ' +\n",
              "            '<a target=\"_blank\" href=https://colab.research.google.com/notebooks/data_table.ipynb>data table notebook</a>'\n",
              "            + ' to learn more about interactive tables.';\n",
              "          element.innerHTML = '';\n",
              "          dataTable['output_type'] = 'display_data';\n",
              "          await google.colab.output.renderOutput(dataTable, element);\n",
              "          const docLink = document.createElement('div');\n",
              "          docLink.innerHTML = docLinkHtml;\n",
              "          element.appendChild(docLink);\n",
              "        }\n",
              "      </script>\n",
              "    </div>\n",
              "  </div>\n",
              "  "
            ]
          },
          "metadata": {},
          "execution_count": 10
        }
      ],
      "source": [
        "#removing duplicate records\n",
        "elon_musk_cln=elon_musk.drop_duplicates().reset_index()\n",
        "elon_musk_cln=elon_musk_cln.drop('index',axis=1)\n",
        "elon_musk_cln"
      ]
    },
    {
      "cell_type": "code",
      "execution_count": null,
      "metadata": {
        "id": "LnzOgJqt7hvn",
        "colab": {
          "base_uri": "https://localhost:8080/"
        },
        "outputId": "51df35bd-0255-4936-a20e-691579936c74"
      },
      "outputs": [
        {
          "output_type": "execute_result",
          "data": {
            "text/plain": [
              "Text                                                                                                                                            \n",
              ".@TheBabylonBee is savage <U+0001F923><U+0001F923>                                                                                                  1\n",
              "@picot_john @CyberpunkGame Its a good to great game imo, but improving what may seem like mere surface detail woul\n",
              " https://t.co/zm0SZ9CbZg        1\n",
              "@renarddemoscou @BillGates Sorry to hear this. What can we do to help?                                                                              1\n",
              "@reganlovetesla @RenataKonkoly @SpaceNews_Inc Enough already on my plate &amp; Teslas. Maybe one day will do a prototy\n",
              " https://t.co/tGPWEJ7WQA    1\n",
              "@redmercy Yes                                                                                                                                       1\n",
              "                                                                                                                                                   ..\n",
              "@SamTalksTesla London to Beijing would be cool                                                                                                      1\n",
              "@SamTalksTesla Im ok, thanks for asking. No symptoms for past few days, apart from fatigue. Unless something chang\n",
              " https://t.co/S8EO2xB2sf        1\n",
              "@SamTalksTesla @teslaownersSV @PPathole @RationalEtienne @stevenmarkryan @Kristennetten @WholeMarsBlog Pretty wild,\n",
              " https://t.co/8PQh2kaLCF        1\n",
              "@SamTalksTesla @Teslarati If some company has solved a useful thing that we can just buy, that would be great! Its\n",
              " https://t.co/IxhyT6NuiC        1\n",
              "Ð is for Ðogecoin! Instructional video.\\nhttps://t.co/UEEocOfcTb                                                                                    1\n",
              "Length: 1997, dtype: int64"
            ]
          },
          "metadata": {},
          "execution_count": 11
        }
      ],
      "source": [
        "elon_musk_cln.value_counts()"
      ]
    },
    {
      "cell_type": "markdown",
      "metadata": {
        "id": "JzjVE7UV8wyh"
      },
      "source": [
        "*  Since we have only one feature and we removed duplicate observations, there will be only unique observations in the dataset."
      ]
    },
    {
      "cell_type": "markdown",
      "metadata": {
        "id": "V0o0T5wUBuWx"
      },
      "source": [
        "##Text cleaning"
      ]
    },
    {
      "cell_type": "code",
      "execution_count": null,
      "metadata": {
        "id": "yBlNnBqqCIGC",
        "colab": {
          "base_uri": "https://localhost:8080/",
          "height": 206
        },
        "outputId": "7b229e3a-7000-4e6b-bb57-2aaea99653e0"
      },
      "outputs": [
        {
          "output_type": "execute_result",
          "data": {
            "text/plain": [
              "                                                Text\n",
              "0                             @kunalb11 Im an alien\n",
              "1  @ID_AA_Carmack Ray tracing on Cyberpunk with H...\n",
              "2                @joerogan @Spotify Great interview!\n",
              "3                    @gtera27 Doge is underestimated\n",
              "4  @teslacn Congratulations Tesla China for amazi..."
            ],
            "text/html": [
              "\n",
              "  <div id=\"df-27b660c0-1912-4188-94fb-b5e2246e9f0b\">\n",
              "    <div class=\"colab-df-container\">\n",
              "      <div>\n",
              "<style scoped>\n",
              "    .dataframe tbody tr th:only-of-type {\n",
              "        vertical-align: middle;\n",
              "    }\n",
              "\n",
              "    .dataframe tbody tr th {\n",
              "        vertical-align: top;\n",
              "    }\n",
              "\n",
              "    .dataframe thead th {\n",
              "        text-align: right;\n",
              "    }\n",
              "</style>\n",
              "<table border=\"1\" class=\"dataframe\">\n",
              "  <thead>\n",
              "    <tr style=\"text-align: right;\">\n",
              "      <th></th>\n",
              "      <th>Text</th>\n",
              "    </tr>\n",
              "  </thead>\n",
              "  <tbody>\n",
              "    <tr>\n",
              "      <th>0</th>\n",
              "      <td>@kunalb11 Im an alien</td>\n",
              "    </tr>\n",
              "    <tr>\n",
              "      <th>1</th>\n",
              "      <td>@ID_AA_Carmack Ray tracing on Cyberpunk with H...</td>\n",
              "    </tr>\n",
              "    <tr>\n",
              "      <th>2</th>\n",
              "      <td>@joerogan @Spotify Great interview!</td>\n",
              "    </tr>\n",
              "    <tr>\n",
              "      <th>3</th>\n",
              "      <td>@gtera27 Doge is underestimated</td>\n",
              "    </tr>\n",
              "    <tr>\n",
              "      <th>4</th>\n",
              "      <td>@teslacn Congratulations Tesla China for amazi...</td>\n",
              "    </tr>\n",
              "  </tbody>\n",
              "</table>\n",
              "</div>\n",
              "      <button class=\"colab-df-convert\" onclick=\"convertToInteractive('df-27b660c0-1912-4188-94fb-b5e2246e9f0b')\"\n",
              "              title=\"Convert this dataframe to an interactive table.\"\n",
              "              style=\"display:none;\">\n",
              "        \n",
              "  <svg xmlns=\"http://www.w3.org/2000/svg\" height=\"24px\"viewBox=\"0 0 24 24\"\n",
              "       width=\"24px\">\n",
              "    <path d=\"M0 0h24v24H0V0z\" fill=\"none\"/>\n",
              "    <path d=\"M18.56 5.44l.94 2.06.94-2.06 2.06-.94-2.06-.94-.94-2.06-.94 2.06-2.06.94zm-11 1L8.5 8.5l.94-2.06 2.06-.94-2.06-.94L8.5 2.5l-.94 2.06-2.06.94zm10 10l.94 2.06.94-2.06 2.06-.94-2.06-.94-.94-2.06-.94 2.06-2.06.94z\"/><path d=\"M17.41 7.96l-1.37-1.37c-.4-.4-.92-.59-1.43-.59-.52 0-1.04.2-1.43.59L10.3 9.45l-7.72 7.72c-.78.78-.78 2.05 0 2.83L4 21.41c.39.39.9.59 1.41.59.51 0 1.02-.2 1.41-.59l7.78-7.78 2.81-2.81c.8-.78.8-2.07 0-2.86zM5.41 20L4 18.59l7.72-7.72 1.47 1.35L5.41 20z\"/>\n",
              "  </svg>\n",
              "      </button>\n",
              "      \n",
              "  <style>\n",
              "    .colab-df-container {\n",
              "      display:flex;\n",
              "      flex-wrap:wrap;\n",
              "      gap: 12px;\n",
              "    }\n",
              "\n",
              "    .colab-df-convert {\n",
              "      background-color: #E8F0FE;\n",
              "      border: none;\n",
              "      border-radius: 50%;\n",
              "      cursor: pointer;\n",
              "      display: none;\n",
              "      fill: #1967D2;\n",
              "      height: 32px;\n",
              "      padding: 0 0 0 0;\n",
              "      width: 32px;\n",
              "    }\n",
              "\n",
              "    .colab-df-convert:hover {\n",
              "      background-color: #E2EBFA;\n",
              "      box-shadow: 0px 1px 2px rgba(60, 64, 67, 0.3), 0px 1px 3px 1px rgba(60, 64, 67, 0.15);\n",
              "      fill: #174EA6;\n",
              "    }\n",
              "\n",
              "    [theme=dark] .colab-df-convert {\n",
              "      background-color: #3B4455;\n",
              "      fill: #D2E3FC;\n",
              "    }\n",
              "\n",
              "    [theme=dark] .colab-df-convert:hover {\n",
              "      background-color: #434B5C;\n",
              "      box-shadow: 0px 1px 3px 1px rgba(0, 0, 0, 0.15);\n",
              "      filter: drop-shadow(0px 1px 2px rgba(0, 0, 0, 0.3));\n",
              "      fill: #FFFFFF;\n",
              "    }\n",
              "  </style>\n",
              "\n",
              "      <script>\n",
              "        const buttonEl =\n",
              "          document.querySelector('#df-27b660c0-1912-4188-94fb-b5e2246e9f0b button.colab-df-convert');\n",
              "        buttonEl.style.display =\n",
              "          google.colab.kernel.accessAllowed ? 'block' : 'none';\n",
              "\n",
              "        async function convertToInteractive(key) {\n",
              "          const element = document.querySelector('#df-27b660c0-1912-4188-94fb-b5e2246e9f0b');\n",
              "          const dataTable =\n",
              "            await google.colab.kernel.invokeFunction('convertToInteractive',\n",
              "                                                     [key], {});\n",
              "          if (!dataTable) return;\n",
              "\n",
              "          const docLinkHtml = 'Like what you see? Visit the ' +\n",
              "            '<a target=\"_blank\" href=https://colab.research.google.com/notebooks/data_table.ipynb>data table notebook</a>'\n",
              "            + ' to learn more about interactive tables.';\n",
              "          element.innerHTML = '';\n",
              "          dataTable['output_type'] = 'display_data';\n",
              "          await google.colab.output.renderOutput(dataTable, element);\n",
              "          const docLink = document.createElement('div');\n",
              "          docLink.innerHTML = docLinkHtml;\n",
              "          element.appendChild(docLink);\n",
              "        }\n",
              "      </script>\n",
              "    </div>\n",
              "  </div>\n",
              "  "
            ]
          },
          "metadata": {},
          "execution_count": 12
        }
      ],
      "source": [
        "elon_musk_cln.head()"
      ]
    },
    {
      "cell_type": "code",
      "execution_count": null,
      "metadata": {
        "id": "85pBAPW-CfUI"
      },
      "outputs": [],
      "source": [
        "#regular expression\n",
        "import re \n",
        "import string\n",
        "\n",
        "def clean_text(text):\n",
        "  text=text.lower()\n",
        "  text=re.sub('\\[.*?\\']','',text)\n",
        "  text=re.sub('[%s]' % re.escape(string.punctuation),'',text)\n",
        "  text=re.sub('\\w*\\d\\w*','',text)\n",
        "  text=re.sub(\"[0-9\" \"]+\",\" \",text)\n",
        "  text=re.sub('[‘’“”…]','',text)\n",
        "  text=re.sub(\"  \",'',text)\n",
        "  return text\n",
        "\n",
        "clean=lambda x:clean_text(x)"
      ]
    },
    {
      "cell_type": "code",
      "execution_count": null,
      "metadata": {
        "id": "BQbBOWHEC2-D",
        "colab": {
          "base_uri": "https://localhost:8080/",
          "height": 423
        },
        "outputId": "3732ff38-7698-41e7-bfec-84ca751542bb"
      },
      "outputs": [
        {
          "output_type": "execute_result",
          "data": {
            "text/plain": [
              "                                                   Text\n",
              "0                                          im an alien\n",
              "1     idaacarmack ray tracing on cyberpunk with hdr ...\n",
              "2                      joerogan spotify great interview\n",
              "3                                doge is underestimated\n",
              "4     teslacn congratulations tesla china for amazin...\n",
              "...                                                 ...\n",
              "1992  flcnhvy true it sounds so surreal but the nega...\n",
              "1993  ppathole make sure to read ur terms amp condit...\n",
              "1994                  teslagong ppathole samwise gamgee\n",
              "1995                 ppathole altho dumb and dumber is \n",
              "1996                            progress update august \n",
              "\n",
              "[1997 rows x 1 columns]"
            ],
            "text/html": [
              "\n",
              "  <div id=\"df-64546f6b-5b72-4e1d-ab61-516faf23543c\">\n",
              "    <div class=\"colab-df-container\">\n",
              "      <div>\n",
              "<style scoped>\n",
              "    .dataframe tbody tr th:only-of-type {\n",
              "        vertical-align: middle;\n",
              "    }\n",
              "\n",
              "    .dataframe tbody tr th {\n",
              "        vertical-align: top;\n",
              "    }\n",
              "\n",
              "    .dataframe thead th {\n",
              "        text-align: right;\n",
              "    }\n",
              "</style>\n",
              "<table border=\"1\" class=\"dataframe\">\n",
              "  <thead>\n",
              "    <tr style=\"text-align: right;\">\n",
              "      <th></th>\n",
              "      <th>Text</th>\n",
              "    </tr>\n",
              "  </thead>\n",
              "  <tbody>\n",
              "    <tr>\n",
              "      <th>0</th>\n",
              "      <td>im an alien</td>\n",
              "    </tr>\n",
              "    <tr>\n",
              "      <th>1</th>\n",
              "      <td>idaacarmack ray tracing on cyberpunk with hdr ...</td>\n",
              "    </tr>\n",
              "    <tr>\n",
              "      <th>2</th>\n",
              "      <td>joerogan spotify great interview</td>\n",
              "    </tr>\n",
              "    <tr>\n",
              "      <th>3</th>\n",
              "      <td>doge is underestimated</td>\n",
              "    </tr>\n",
              "    <tr>\n",
              "      <th>4</th>\n",
              "      <td>teslacn congratulations tesla china for amazin...</td>\n",
              "    </tr>\n",
              "    <tr>\n",
              "      <th>...</th>\n",
              "      <td>...</td>\n",
              "    </tr>\n",
              "    <tr>\n",
              "      <th>1992</th>\n",
              "      <td>flcnhvy true it sounds so surreal but the nega...</td>\n",
              "    </tr>\n",
              "    <tr>\n",
              "      <th>1993</th>\n",
              "      <td>ppathole make sure to read ur terms amp condit...</td>\n",
              "    </tr>\n",
              "    <tr>\n",
              "      <th>1994</th>\n",
              "      <td>teslagong ppathole samwise gamgee</td>\n",
              "    </tr>\n",
              "    <tr>\n",
              "      <th>1995</th>\n",
              "      <td>ppathole altho dumb and dumber is</td>\n",
              "    </tr>\n",
              "    <tr>\n",
              "      <th>1996</th>\n",
              "      <td>progress update august</td>\n",
              "    </tr>\n",
              "  </tbody>\n",
              "</table>\n",
              "<p>1997 rows × 1 columns</p>\n",
              "</div>\n",
              "      <button class=\"colab-df-convert\" onclick=\"convertToInteractive('df-64546f6b-5b72-4e1d-ab61-516faf23543c')\"\n",
              "              title=\"Convert this dataframe to an interactive table.\"\n",
              "              style=\"display:none;\">\n",
              "        \n",
              "  <svg xmlns=\"http://www.w3.org/2000/svg\" height=\"24px\"viewBox=\"0 0 24 24\"\n",
              "       width=\"24px\">\n",
              "    <path d=\"M0 0h24v24H0V0z\" fill=\"none\"/>\n",
              "    <path d=\"M18.56 5.44l.94 2.06.94-2.06 2.06-.94-2.06-.94-.94-2.06-.94 2.06-2.06.94zm-11 1L8.5 8.5l.94-2.06 2.06-.94-2.06-.94L8.5 2.5l-.94 2.06-2.06.94zm10 10l.94 2.06.94-2.06 2.06-.94-2.06-.94-.94-2.06-.94 2.06-2.06.94z\"/><path d=\"M17.41 7.96l-1.37-1.37c-.4-.4-.92-.59-1.43-.59-.52 0-1.04.2-1.43.59L10.3 9.45l-7.72 7.72c-.78.78-.78 2.05 0 2.83L4 21.41c.39.39.9.59 1.41.59.51 0 1.02-.2 1.41-.59l7.78-7.78 2.81-2.81c.8-.78.8-2.07 0-2.86zM5.41 20L4 18.59l7.72-7.72 1.47 1.35L5.41 20z\"/>\n",
              "  </svg>\n",
              "      </button>\n",
              "      \n",
              "  <style>\n",
              "    .colab-df-container {\n",
              "      display:flex;\n",
              "      flex-wrap:wrap;\n",
              "      gap: 12px;\n",
              "    }\n",
              "\n",
              "    .colab-df-convert {\n",
              "      background-color: #E8F0FE;\n",
              "      border: none;\n",
              "      border-radius: 50%;\n",
              "      cursor: pointer;\n",
              "      display: none;\n",
              "      fill: #1967D2;\n",
              "      height: 32px;\n",
              "      padding: 0 0 0 0;\n",
              "      width: 32px;\n",
              "    }\n",
              "\n",
              "    .colab-df-convert:hover {\n",
              "      background-color: #E2EBFA;\n",
              "      box-shadow: 0px 1px 2px rgba(60, 64, 67, 0.3), 0px 1px 3px 1px rgba(60, 64, 67, 0.15);\n",
              "      fill: #174EA6;\n",
              "    }\n",
              "\n",
              "    [theme=dark] .colab-df-convert {\n",
              "      background-color: #3B4455;\n",
              "      fill: #D2E3FC;\n",
              "    }\n",
              "\n",
              "    [theme=dark] .colab-df-convert:hover {\n",
              "      background-color: #434B5C;\n",
              "      box-shadow: 0px 1px 3px 1px rgba(0, 0, 0, 0.15);\n",
              "      filter: drop-shadow(0px 1px 2px rgba(0, 0, 0, 0.3));\n",
              "      fill: #FFFFFF;\n",
              "    }\n",
              "  </style>\n",
              "\n",
              "      <script>\n",
              "        const buttonEl =\n",
              "          document.querySelector('#df-64546f6b-5b72-4e1d-ab61-516faf23543c button.colab-df-convert');\n",
              "        buttonEl.style.display =\n",
              "          google.colab.kernel.accessAllowed ? 'block' : 'none';\n",
              "\n",
              "        async function convertToInteractive(key) {\n",
              "          const element = document.querySelector('#df-64546f6b-5b72-4e1d-ab61-516faf23543c');\n",
              "          const dataTable =\n",
              "            await google.colab.kernel.invokeFunction('convertToInteractive',\n",
              "                                                     [key], {});\n",
              "          if (!dataTable) return;\n",
              "\n",
              "          const docLinkHtml = 'Like what you see? Visit the ' +\n",
              "            '<a target=\"_blank\" href=https://colab.research.google.com/notebooks/data_table.ipynb>data table notebook</a>'\n",
              "            + ' to learn more about interactive tables.';\n",
              "          element.innerHTML = '';\n",
              "          dataTable['output_type'] = 'display_data';\n",
              "          await google.colab.output.renderOutput(dataTable, element);\n",
              "          const docLink = document.createElement('div');\n",
              "          docLink.innerHTML = docLinkHtml;\n",
              "          element.appendChild(docLink);\n",
              "        }\n",
              "      </script>\n",
              "    </div>\n",
              "  </div>\n",
              "  "
            ]
          },
          "metadata": {},
          "execution_count": 14
        }
      ],
      "source": [
        "elon_musk_cln[\"Text\"] = elon_musk_cln[\"Text\"].apply(clean_text) # Clean The Text\n",
        "elon_musk_cln"
      ]
    },
    {
      "cell_type": "code",
      "execution_count": null,
      "metadata": {
        "id": "Q320G6T3Ed-s",
        "colab": {
          "base_uri": "https://localhost:8080/"
        },
        "outputId": "f60b476d-20ba-4697-dd35-e2f37874ed72"
      },
      "outputs": [
        {
          "output_type": "execute_result",
          "data": {
            "text/plain": [
              "the               473\n",
              "to                399\n",
              "is                352\n",
              "a                 351\n",
              "of                312\n",
              "                 ... \n",
              "are                99\n",
              "erdayastronaut     98\n",
              "at                 93\n",
              "you                85\n",
              "and                84\n",
              "Length: 25, dtype: int64"
            ]
          },
          "metadata": {},
          "execution_count": 15
        }
      ],
      "source": [
        "#word frequency\n",
        "#top 20\n",
        "freq=pd.Series(''.join(elon_musk_cln['Text']).split()).value_counts()[:25]\n",
        "freq"
      ]
    },
    {
      "cell_type": "code",
      "execution_count": null,
      "metadata": {
        "id": "l_VVoQ2EmBmo",
        "colab": {
          "base_uri": "https://localhost:8080/",
          "height": 458
        },
        "outputId": "2989efb7-f472-44f3-d0bd-683670a589dc"
      },
      "outputs": [
        {
          "output_type": "stream",
          "name": "stderr",
          "text": [
            "[nltk_data] Downloading package stopwords to /root/nltk_data...\n",
            "[nltk_data]   Unzipping corpora/stopwords.zip.\n"
          ]
        },
        {
          "output_type": "execute_result",
          "data": {
            "text/plain": [
              "                                                   Text\n",
              "0                                             im alien\n",
              "1     idaacarmack ray tracing cyberpunk hdr nextleve...\n",
              "2                      joerogan spotify great interview\n",
              "3                                   doge underestimated\n",
              "4     teslacn congratulations tesla china amazing ex...\n",
              "...                                                 ...\n",
              "1992  flcnhvy true sounds surreal negative propagand...\n",
              "1993  ppathole make sure read ur terms amp condition...\n",
              "1994                  teslagong ppathole samwise gamgee\n",
              "1995                         ppathole altho dumb dumber\n",
              "1996                             progress update august\n",
              "\n",
              "[1997 rows x 1 columns]"
            ],
            "text/html": [
              "\n",
              "  <div id=\"df-b4000e5a-4365-4e75-bdb9-b8d69bf2d933\">\n",
              "    <div class=\"colab-df-container\">\n",
              "      <div>\n",
              "<style scoped>\n",
              "    .dataframe tbody tr th:only-of-type {\n",
              "        vertical-align: middle;\n",
              "    }\n",
              "\n",
              "    .dataframe tbody tr th {\n",
              "        vertical-align: top;\n",
              "    }\n",
              "\n",
              "    .dataframe thead th {\n",
              "        text-align: right;\n",
              "    }\n",
              "</style>\n",
              "<table border=\"1\" class=\"dataframe\">\n",
              "  <thead>\n",
              "    <tr style=\"text-align: right;\">\n",
              "      <th></th>\n",
              "      <th>Text</th>\n",
              "    </tr>\n",
              "  </thead>\n",
              "  <tbody>\n",
              "    <tr>\n",
              "      <th>0</th>\n",
              "      <td>im alien</td>\n",
              "    </tr>\n",
              "    <tr>\n",
              "      <th>1</th>\n",
              "      <td>idaacarmack ray tracing cyberpunk hdr nextleve...</td>\n",
              "    </tr>\n",
              "    <tr>\n",
              "      <th>2</th>\n",
              "      <td>joerogan spotify great interview</td>\n",
              "    </tr>\n",
              "    <tr>\n",
              "      <th>3</th>\n",
              "      <td>doge underestimated</td>\n",
              "    </tr>\n",
              "    <tr>\n",
              "      <th>4</th>\n",
              "      <td>teslacn congratulations tesla china amazing ex...</td>\n",
              "    </tr>\n",
              "    <tr>\n",
              "      <th>...</th>\n",
              "      <td>...</td>\n",
              "    </tr>\n",
              "    <tr>\n",
              "      <th>1992</th>\n",
              "      <td>flcnhvy true sounds surreal negative propagand...</td>\n",
              "    </tr>\n",
              "    <tr>\n",
              "      <th>1993</th>\n",
              "      <td>ppathole make sure read ur terms amp condition...</td>\n",
              "    </tr>\n",
              "    <tr>\n",
              "      <th>1994</th>\n",
              "      <td>teslagong ppathole samwise gamgee</td>\n",
              "    </tr>\n",
              "    <tr>\n",
              "      <th>1995</th>\n",
              "      <td>ppathole altho dumb dumber</td>\n",
              "    </tr>\n",
              "    <tr>\n",
              "      <th>1996</th>\n",
              "      <td>progress update august</td>\n",
              "    </tr>\n",
              "  </tbody>\n",
              "</table>\n",
              "<p>1997 rows × 1 columns</p>\n",
              "</div>\n",
              "      <button class=\"colab-df-convert\" onclick=\"convertToInteractive('df-b4000e5a-4365-4e75-bdb9-b8d69bf2d933')\"\n",
              "              title=\"Convert this dataframe to an interactive table.\"\n",
              "              style=\"display:none;\">\n",
              "        \n",
              "  <svg xmlns=\"http://www.w3.org/2000/svg\" height=\"24px\"viewBox=\"0 0 24 24\"\n",
              "       width=\"24px\">\n",
              "    <path d=\"M0 0h24v24H0V0z\" fill=\"none\"/>\n",
              "    <path d=\"M18.56 5.44l.94 2.06.94-2.06 2.06-.94-2.06-.94-.94-2.06-.94 2.06-2.06.94zm-11 1L8.5 8.5l.94-2.06 2.06-.94-2.06-.94L8.5 2.5l-.94 2.06-2.06.94zm10 10l.94 2.06.94-2.06 2.06-.94-2.06-.94-.94-2.06-.94 2.06-2.06.94z\"/><path d=\"M17.41 7.96l-1.37-1.37c-.4-.4-.92-.59-1.43-.59-.52 0-1.04.2-1.43.59L10.3 9.45l-7.72 7.72c-.78.78-.78 2.05 0 2.83L4 21.41c.39.39.9.59 1.41.59.51 0 1.02-.2 1.41-.59l7.78-7.78 2.81-2.81c.8-.78.8-2.07 0-2.86zM5.41 20L4 18.59l7.72-7.72 1.47 1.35L5.41 20z\"/>\n",
              "  </svg>\n",
              "      </button>\n",
              "      \n",
              "  <style>\n",
              "    .colab-df-container {\n",
              "      display:flex;\n",
              "      flex-wrap:wrap;\n",
              "      gap: 12px;\n",
              "    }\n",
              "\n",
              "    .colab-df-convert {\n",
              "      background-color: #E8F0FE;\n",
              "      border: none;\n",
              "      border-radius: 50%;\n",
              "      cursor: pointer;\n",
              "      display: none;\n",
              "      fill: #1967D2;\n",
              "      height: 32px;\n",
              "      padding: 0 0 0 0;\n",
              "      width: 32px;\n",
              "    }\n",
              "\n",
              "    .colab-df-convert:hover {\n",
              "      background-color: #E2EBFA;\n",
              "      box-shadow: 0px 1px 2px rgba(60, 64, 67, 0.3), 0px 1px 3px 1px rgba(60, 64, 67, 0.15);\n",
              "      fill: #174EA6;\n",
              "    }\n",
              "\n",
              "    [theme=dark] .colab-df-convert {\n",
              "      background-color: #3B4455;\n",
              "      fill: #D2E3FC;\n",
              "    }\n",
              "\n",
              "    [theme=dark] .colab-df-convert:hover {\n",
              "      background-color: #434B5C;\n",
              "      box-shadow: 0px 1px 3px 1px rgba(0, 0, 0, 0.15);\n",
              "      filter: drop-shadow(0px 1px 2px rgba(0, 0, 0, 0.3));\n",
              "      fill: #FFFFFF;\n",
              "    }\n",
              "  </style>\n",
              "\n",
              "      <script>\n",
              "        const buttonEl =\n",
              "          document.querySelector('#df-b4000e5a-4365-4e75-bdb9-b8d69bf2d933 button.colab-df-convert');\n",
              "        buttonEl.style.display =\n",
              "          google.colab.kernel.accessAllowed ? 'block' : 'none';\n",
              "\n",
              "        async function convertToInteractive(key) {\n",
              "          const element = document.querySelector('#df-b4000e5a-4365-4e75-bdb9-b8d69bf2d933');\n",
              "          const dataTable =\n",
              "            await google.colab.kernel.invokeFunction('convertToInteractive',\n",
              "                                                     [key], {});\n",
              "          if (!dataTable) return;\n",
              "\n",
              "          const docLinkHtml = 'Like what you see? Visit the ' +\n",
              "            '<a target=\"_blank\" href=https://colab.research.google.com/notebooks/data_table.ipynb>data table notebook</a>'\n",
              "            + ' to learn more about interactive tables.';\n",
              "          element.innerHTML = '';\n",
              "          dataTable['output_type'] = 'display_data';\n",
              "          await google.colab.output.renderOutput(dataTable, element);\n",
              "          const docLink = document.createElement('div');\n",
              "          docLink.innerHTML = docLinkHtml;\n",
              "          element.appendChild(docLink);\n",
              "        }\n",
              "      </script>\n",
              "    </div>\n",
              "  </div>\n",
              "  "
            ]
          },
          "metadata": {},
          "execution_count": 16
        }
      ],
      "source": [
        "#removing stopwords\n",
        "import nltk\n",
        "nltk.download('stopwords')\n",
        "from nltk.corpus import stopwords\n",
        "stop=stopwords.words('english')\n",
        "elon_musk_cln['Text']=elon_musk_cln['Text'].apply(lambda x:\" \".join(x for x in x.split() if x not in stop))\n",
        "elon_musk_cln"
      ]
    },
    {
      "cell_type": "code",
      "execution_count": null,
      "metadata": {
        "id": "HJqWUSG0JFfh",
        "colab": {
          "base_uri": "https://localhost:8080/",
          "height": 692
        },
        "outputId": "6ad9f060-699a-4d8d-d1d9-091cf573cd8a"
      },
      "outputs": [
        {
          "output_type": "error",
          "ename": "ValueError",
          "evalue": "ignored",
          "traceback": [
            "\u001b[0;31m---------------------------------------------------------------------------\u001b[0m",
            "\u001b[0;31mValueError\u001b[0m                                Traceback (most recent call last)",
            "\u001b[0;32m<ipython-input-19-5257a61279b9>\u001b[0m in \u001b[0;36m<cell line: 8>\u001b[0;34m()\u001b[0m\n\u001b[1;32m      6\u001b[0m \u001b[0mplt\u001b[0m\u001b[0;34m.\u001b[0m\u001b[0mfigure\u001b[0m\u001b[0;34m(\u001b[0m\u001b[0mfigsize\u001b[0m\u001b[0;34m=\u001b[0m\u001b[0;34m(\u001b[0m\u001b[0;36m20\u001b[0m\u001b[0;34m,\u001b[0m\u001b[0;36m5\u001b[0m\u001b[0;34m)\u001b[0m\u001b[0;34m)\u001b[0m\u001b[0;34m\u001b[0m\u001b[0;34m\u001b[0m\u001b[0m\n\u001b[1;32m      7\u001b[0m \u001b[0mplt\u001b[0m\u001b[0;34m.\u001b[0m\u001b[0mtitle\u001b[0m\u001b[0;34m(\u001b[0m\u001b[0;34m'Top25 most frequent words in tweets'\u001b[0m\u001b[0;34m)\u001b[0m\u001b[0;34m\u001b[0m\u001b[0;34m\u001b[0m\u001b[0m\n\u001b[0;32m----> 8\u001b[0;31m \u001b[0msns\u001b[0m\u001b[0;34m.\u001b[0m\u001b[0mbarplot\u001b[0m\u001b[0;34m(\u001b[0m\u001b[0;34m'word'\u001b[0m\u001b[0;34m)\u001b[0m\u001b[0;34m\u001b[0m\u001b[0;34m\u001b[0m\u001b[0m\n\u001b[0m\u001b[1;32m      9\u001b[0m \u001b[0msns\u001b[0m\u001b[0;34m.\u001b[0m\u001b[0mbarplot\u001b[0m\u001b[0;34m(\u001b[0m\u001b[0;34m'frequency'\u001b[0m\u001b[0;34m)\u001b[0m\u001b[0;34m\u001b[0m\u001b[0;34m\u001b[0m\u001b[0m\n\u001b[1;32m     10\u001b[0m \u001b[0msns\u001b[0m\u001b[0;34m.\u001b[0m\u001b[0mbarplot\u001b[0m \u001b[0;34m(\u001b[0m\u001b[0mdata\u001b[0m\u001b[0;34m=\u001b[0m\u001b[0mfreq_swdf\u001b[0m\u001b[0;34m)\u001b[0m\u001b[0;34m\u001b[0m\u001b[0;34m\u001b[0m\u001b[0m\n",
            "\u001b[0;32m/usr/local/lib/python3.10/dist-packages/seaborn/categorical.py\u001b[0m in \u001b[0;36mbarplot\u001b[0;34m(data, x, y, hue, order, hue_order, estimator, errorbar, n_boot, units, seed, orient, color, palette, saturation, width, errcolor, errwidth, capsize, dodge, ci, ax, **kwargs)\u001b[0m\n\u001b[1;32m   2753\u001b[0m         \u001b[0mestimator\u001b[0m \u001b[0;34m=\u001b[0m \u001b[0;34m\"size\"\u001b[0m\u001b[0;34m\u001b[0m\u001b[0;34m\u001b[0m\u001b[0m\n\u001b[1;32m   2754\u001b[0m \u001b[0;34m\u001b[0m\u001b[0m\n\u001b[0;32m-> 2755\u001b[0;31m     plotter = _BarPlotter(x, y, hue, data, order, hue_order,\n\u001b[0m\u001b[1;32m   2756\u001b[0m                           \u001b[0mestimator\u001b[0m\u001b[0;34m,\u001b[0m \u001b[0merrorbar\u001b[0m\u001b[0;34m,\u001b[0m \u001b[0mn_boot\u001b[0m\u001b[0;34m,\u001b[0m \u001b[0munits\u001b[0m\u001b[0;34m,\u001b[0m \u001b[0mseed\u001b[0m\u001b[0;34m,\u001b[0m\u001b[0;34m\u001b[0m\u001b[0;34m\u001b[0m\u001b[0m\n\u001b[1;32m   2757\u001b[0m                           \u001b[0morient\u001b[0m\u001b[0;34m,\u001b[0m \u001b[0mcolor\u001b[0m\u001b[0;34m,\u001b[0m \u001b[0mpalette\u001b[0m\u001b[0;34m,\u001b[0m \u001b[0msaturation\u001b[0m\u001b[0;34m,\u001b[0m\u001b[0;34m\u001b[0m\u001b[0;34m\u001b[0m\u001b[0m\n",
            "\u001b[0;32m/usr/local/lib/python3.10/dist-packages/seaborn/categorical.py\u001b[0m in \u001b[0;36m__init__\u001b[0;34m(self, x, y, hue, data, order, hue_order, estimator, errorbar, n_boot, units, seed, orient, color, palette, saturation, width, errcolor, errwidth, capsize, dodge)\u001b[0m\n\u001b[1;32m   1528\u001b[0m                  errcolor, errwidth, capsize, dodge):\n\u001b[1;32m   1529\u001b[0m         \u001b[0;34m\"\"\"Initialize the plotter.\"\"\"\u001b[0m\u001b[0;34m\u001b[0m\u001b[0;34m\u001b[0m\u001b[0m\n\u001b[0;32m-> 1530\u001b[0;31m         self.establish_variables(x, y, hue, data, orient,\n\u001b[0m\u001b[1;32m   1531\u001b[0m                                  order, hue_order, units)\n\u001b[1;32m   1532\u001b[0m         \u001b[0mself\u001b[0m\u001b[0;34m.\u001b[0m\u001b[0mestablish_colors\u001b[0m\u001b[0;34m(\u001b[0m\u001b[0mcolor\u001b[0m\u001b[0;34m,\u001b[0m \u001b[0mpalette\u001b[0m\u001b[0;34m,\u001b[0m \u001b[0msaturation\u001b[0m\u001b[0;34m)\u001b[0m\u001b[0;34m\u001b[0m\u001b[0;34m\u001b[0m\u001b[0m\n",
            "\u001b[0;32m/usr/local/lib/python3.10/dist-packages/seaborn/categorical.py\u001b[0m in \u001b[0;36mestablish_variables\u001b[0;34m(self, x, y, hue, data, orient, order, hue_order, units)\u001b[0m\n\u001b[1;32m    514\u001b[0m \u001b[0;34m\u001b[0m\u001b[0m\n\u001b[1;32m    515\u001b[0m                 \u001b[0;31m# Convert to a list of arrays, the common representation\u001b[0m\u001b[0;34m\u001b[0m\u001b[0;34m\u001b[0m\u001b[0m\n\u001b[0;32m--> 516\u001b[0;31m                 \u001b[0mplot_data\u001b[0m \u001b[0;34m=\u001b[0m \u001b[0;34m[\u001b[0m\u001b[0mnp\u001b[0m\u001b[0;34m.\u001b[0m\u001b[0masarray\u001b[0m\u001b[0;34m(\u001b[0m\u001b[0md\u001b[0m\u001b[0;34m,\u001b[0m \u001b[0mfloat\u001b[0m\u001b[0;34m)\u001b[0m \u001b[0;32mfor\u001b[0m \u001b[0md\u001b[0m \u001b[0;32min\u001b[0m \u001b[0mplot_data\u001b[0m\u001b[0;34m]\u001b[0m\u001b[0;34m\u001b[0m\u001b[0;34m\u001b[0m\u001b[0m\n\u001b[0m\u001b[1;32m    517\u001b[0m \u001b[0;34m\u001b[0m\u001b[0m\n\u001b[1;32m    518\u001b[0m                 \u001b[0;31m# The group names will just be numeric indices\u001b[0m\u001b[0;34m\u001b[0m\u001b[0;34m\u001b[0m\u001b[0m\n",
            "\u001b[0;32m/usr/local/lib/python3.10/dist-packages/seaborn/categorical.py\u001b[0m in \u001b[0;36m<listcomp>\u001b[0;34m(.0)\u001b[0m\n\u001b[1;32m    514\u001b[0m \u001b[0;34m\u001b[0m\u001b[0m\n\u001b[1;32m    515\u001b[0m                 \u001b[0;31m# Convert to a list of arrays, the common representation\u001b[0m\u001b[0;34m\u001b[0m\u001b[0;34m\u001b[0m\u001b[0m\n\u001b[0;32m--> 516\u001b[0;31m                 \u001b[0mplot_data\u001b[0m \u001b[0;34m=\u001b[0m \u001b[0;34m[\u001b[0m\u001b[0mnp\u001b[0m\u001b[0;34m.\u001b[0m\u001b[0masarray\u001b[0m\u001b[0;34m(\u001b[0m\u001b[0md\u001b[0m\u001b[0;34m,\u001b[0m \u001b[0mfloat\u001b[0m\u001b[0;34m)\u001b[0m \u001b[0;32mfor\u001b[0m \u001b[0md\u001b[0m \u001b[0;32min\u001b[0m \u001b[0mplot_data\u001b[0m\u001b[0;34m]\u001b[0m\u001b[0;34m\u001b[0m\u001b[0;34m\u001b[0m\u001b[0m\n\u001b[0m\u001b[1;32m    517\u001b[0m \u001b[0;34m\u001b[0m\u001b[0m\n\u001b[1;32m    518\u001b[0m                 \u001b[0;31m# The group names will just be numeric indices\u001b[0m\u001b[0;34m\u001b[0m\u001b[0;34m\u001b[0m\u001b[0m\n",
            "\u001b[0;31mValueError\u001b[0m: could not convert string to float: 'word'"
          ]
        },
        {
          "output_type": "display_data",
          "data": {
            "text/plain": [
              "<Figure size 2000x500 with 1 Axes>"
            ],
            "image/png": "[encoded data removed]"
          },
          "metadata": {}
        }
      ],
      "source": [
        "#word frequency after removal of stopwords,top 25\n",
        "freq_sw=pd.Series(' '.join(elon_musk_cln['Text']).split()).value_counts()[:25]\n",
        "freq_sw\n",
        "freq_swdf=pd.DataFrame(freq_sw).reset_index()\n",
        "freq_swdf.rename(columns={'index':'word',0:'frequency'},inplace=True)\n",
        "plt.figure(figsize=(20,5))\n",
        "plt.title('Top25 most frequent words in tweets')\n",
        "sns.barplot('word')\n",
        "sns.barplot('frequency')\n",
        "sns.barplot (data=freq_swdf)\n",
        "plt.xticks(rotation=45)"
      ]
    },
    {
      "cell_type": "code",
      "execution_count": null,
      "metadata": {
        "id": "240Yt9tVJQl4",
        "colab": {
          "base_uri": "https://localhost:8080/",
          "height": 236
        },
        "outputId": "b5dacd49-c914-44b5-9ed3-e1ed18d7339a"
      },
      "outputs": [
        {
          "output_type": "error",
          "ename": "AttributeError",
          "evalue": "ignored",
          "traceback": [
            "\u001b[0;31m---------------------------------------------------------------------------\u001b[0m",
            "\u001b[0;31mAttributeError\u001b[0m                            Traceback (most recent call last)",
            "\u001b[0;32m<ipython-input-22-af79bd9d9bd3>\u001b[0m in \u001b[0;36m<cell line: 6>\u001b[0;34m()\u001b[0m\n\u001b[1;32m      4\u001b[0m \u001b[0mvectorizer\u001b[0m\u001b[0;34m=\u001b[0m\u001b[0mCountVectorizer\u001b[0m\u001b[0;34m(\u001b[0m\u001b[0mmin_df\u001b[0m\u001b[0;34m=\u001b[0m\u001b[0;36m1\u001b[0m\u001b[0;34m,\u001b[0m\u001b[0mmax_df\u001b[0m\u001b[0;34m=\u001b[0m\u001b[0;36m5\u001b[0m\u001b[0;34m)\u001b[0m\u001b[0;34m\u001b[0m\u001b[0;34m\u001b[0m\u001b[0m\n\u001b[1;32m      5\u001b[0m \u001b[0mX\u001b[0m\u001b[0;34m=\u001b[0m\u001b[0mvectorizer\u001b[0m\u001b[0;34m.\u001b[0m\u001b[0mfit_transform\u001b[0m\u001b[0;34m(\u001b[0m\u001b[0melon_musk_cln\u001b[0m\u001b[0;34m[\u001b[0m\u001b[0;34m\"Text\"\u001b[0m\u001b[0;34m]\u001b[0m\u001b[0;34m)\u001b[0m\u001b[0;34m\u001b[0m\u001b[0;34m\u001b[0m\u001b[0m\n\u001b[0;32m----> 6\u001b[0;31m word_freq_df=pd.DataFrame({'term':vectorizer.get_feature_names(),\n\u001b[0m\u001b[1;32m      7\u001b[0m                            'occurrences':np.asarray(X.sum(axis=0)).ravel().tolist()})\n\u001b[1;32m      8\u001b[0m \u001b[0mword_freq_df\u001b[0m\u001b[0;34m[\u001b[0m\u001b[0;34m'frequency'\u001b[0m\u001b[0;34m]\u001b[0m\u001b[0;34m=\u001b[0m\u001b[0mword_freq_df\u001b[0m\u001b[0;34m[\u001b[0m\u001b[0;34m'occurrences'\u001b[0m\u001b[0;34m]\u001b[0m\u001b[0;34m/\u001b[0m\u001b[0mnp\u001b[0m\u001b[0;34m.\u001b[0m\u001b[0msum\u001b[0m\u001b[0;34m(\u001b[0m\u001b[0mword_freq_df\u001b[0m\u001b[0;34m[\u001b[0m\u001b[0;34m'occurrences'\u001b[0m\u001b[0;34m]\u001b[0m\u001b[0;34m)\u001b[0m\u001b[0;34m\u001b[0m\u001b[0;34m\u001b[0m\u001b[0m\n",
            "\u001b[0;31mAttributeError\u001b[0m: 'CountVectorizer' object has no attribute 'get_feature_names'"
          ]
        }
      ],
      "source": [
        "#count vectorizer tells the frequency of a word\n",
        "from sklearn.feature_extraction.text import CountVectorizer\n",
        "import numpy as np\n",
        "vectorizer=CountVectorizer(min_df=1,max_df=5)\n",
        "X=vectorizer.fit_transform(elon_musk_cln[\"Text\"])\n",
        "word_freq_df=pd.DataFrame({'term':vectorizer.get_feature_names(),\n",
        "                           'occurrences':np.asarray(X.sum(axis=0)).ravel().tolist()})\n",
        "word_freq_df['frequency']=word_freq_df['occurrences']/np.sum(word_freq_df['occurrences'])"
      ]
    },
    {
      "cell_type": "code",
      "execution_count": null,
      "metadata": {
        "id": "npXd8K2ZKBnU"
      },
      "outputs": [],
      "source": [
        "word_freq_df.head(25)"
      ]
    },
    {
      "cell_type": "code",
      "execution_count": null,
      "metadata": {
        "id": "DbUJtyutKe_Z"
      },
      "outputs": [],
      "source": [
        "#TFIDF -term frequency inverse document frequency\n",
        "from sklearn.feature_extraction.text import TfidfVectorizer\n",
        "vectorizer=TfidfVectorizer(stop_words='english',max_features=1000,max_df=0.5,smooth_idf=True)# 1000 words\n",
        "doc_vec=vectorizer.fit_transform(elon_musk_cln['Text'])\n",
        "names_features=vectorizer.get_feature_names()\n",
        "dense=doc_vec.todense()\n",
        "denselist=dense.tolist()\n",
        "df=pd.DataFrame(denselist,columns=names_features)"
      ]
    },
    {
      "cell_type": "code",
      "execution_count": null,
      "metadata": {
        "id": "ixtyauuuKqhu"
      },
      "outputs": [],
      "source": [
        "df"
      ]
    },
    {
      "cell_type": "markdown",
      "metadata": {
        "id": "Qxq2MdRWKxsa"
      },
      "source": [
        "##N-gram"
      ]
    },
    {
      "cell_type": "code",
      "execution_count": null,
      "metadata": {
        "id": "BQTO-d2pKtlc"
      },
      "outputs": [],
      "source": [
        "#Bi-gram\n",
        "def get_top_n2_words(corpus,n=None):\n",
        "  vec1=CountVectorizer(ngram_range=(2,2),max_features=2000).fit(corpus) # for tri-gram=(3,3)\n",
        "  bag_of_words=vec1.transform(corpus)\n",
        "  sum_words=bag_of_words.sum(axis=0)\n",
        "  words_freq=[(word,sum_words[0,idx]) for word,idx in vec1.vocabulary_.items()]\n",
        "  words_freq=sorted(words_freq,key=lambda x:x[1],reverse=True)\n",
        "    \n",
        "  return words_freq[:n]  "
      ]
    },
    {
      "cell_type": "code",
      "execution_count": null,
      "metadata": {
        "id": "4I-puAy9K8ZY"
      },
      "outputs": [],
      "source": [
        "top2_words=get_top_n2_words(elon_musk_cln['Text'],n=200) #top 200\n",
        "top2_df=pd.DataFrame(top2_words)\n",
        "top2_df.columns=['Bi-gram',\"Freq\"]\n",
        "top2_df.head(50)"
      ]
    },
    {
      "cell_type": "code",
      "execution_count": null,
      "metadata": {
        "id": "y2A7x1OvLADr"
      },
      "outputs": [],
      "source": [
        "#Bi-gram plot\n",
        "import matplotlib.pyplot as plt\n",
        "import seaborn as sns\n",
        "\n",
        "top20_bigram=top2_df.iloc[0:20,:]\n",
        "fig=plt.figure(figsize=(20,7))\n",
        "plot=sns.barplot(x=top20_bigram['Bi-gram'],y=top20_bigram['Freq'])\n",
        "plot.set_xticklabels(rotation=45,labels=top20_bigram[\"Bi-gram\"])\n",
        "plt.show()"
      ]
    },
    {
      "cell_type": "code",
      "execution_count": null,
      "metadata": {
        "id": "0uKBtLxnLN_j"
      },
      "outputs": [],
      "source": [
        "#Tri-gram\n",
        "def get_top_n3_words(corpus,n=None):\n",
        "  vec1=CountVectorizer(ngram_range=(3,3),max_features=2000).fit(corpus)\n",
        "  bag_of_words=vec1.transform(corpus)\n",
        "  sum_words=bag_of_words.sum(axis=0)\n",
        "  words_freq=[(word,sum_words[0,idx]) for word,idx in vec1.vocabulary_.items()]\n",
        "  words_freq=sorted(words_freq,key=lambda x:x[1],reverse=True)\n",
        "    \n",
        "  return words_freq[:n]  "
      ]
    },
    {
      "cell_type": "code",
      "execution_count": null,
      "metadata": {
        "id": "GNNo4oX4LZNc"
      },
      "outputs": [],
      "source": [
        "top3_words=get_top_n3_words(elon_musk_cln['Text'],n=200) #top 200\n",
        "top3_df=pd.DataFrame(top3_words)\n",
        "top3_df.columns=['Tri-gram',\"Freq\"]\n",
        "top3_df"
      ]
    },
    {
      "cell_type": "code",
      "execution_count": null,
      "metadata": {
        "id": "QhPdyBR5Lepz",
        "colab": {
          "base_uri": "https://localhost:8080/",
          "height": 236
        },
        "outputId": "317b2abf-53d6-4afe-e53f-59cbaa3dd2a9"
      },
      "outputs": [
        {
          "output_type": "error",
          "ename": "NameError",
          "evalue": "ignored",
          "traceback": [
            "\u001b[0;31m---------------------------------------------------------------------------\u001b[0m",
            "\u001b[0;31mNameError\u001b[0m                                 Traceback (most recent call last)",
            "\u001b[0;32m<ipython-input-20-f4f1fb89807b>\u001b[0m in \u001b[0;36m<cell line: 5>\u001b[0;34m()\u001b[0m\n\u001b[1;32m      3\u001b[0m \u001b[0;32mimport\u001b[0m \u001b[0mseaborn\u001b[0m \u001b[0;32mas\u001b[0m \u001b[0msns\u001b[0m\u001b[0;34m\u001b[0m\u001b[0;34m\u001b[0m\u001b[0m\n\u001b[1;32m      4\u001b[0m \u001b[0;34m\u001b[0m\u001b[0m\n\u001b[0;32m----> 5\u001b[0;31m \u001b[0mtop20_bigram\u001b[0m\u001b[0;34m=\u001b[0m\u001b[0mtop3_df\u001b[0m\u001b[0;34m.\u001b[0m\u001b[0miloc\u001b[0m\u001b[0;34m[\u001b[0m\u001b[0;36m0\u001b[0m\u001b[0;34m:\u001b[0m\u001b[0;36m20\u001b[0m\u001b[0;34m,\u001b[0m\u001b[0;34m:\u001b[0m\u001b[0;34m]\u001b[0m\u001b[0;34m\u001b[0m\u001b[0;34m\u001b[0m\u001b[0m\n\u001b[0m\u001b[1;32m      6\u001b[0m \u001b[0mfig\u001b[0m\u001b[0;34m=\u001b[0m\u001b[0mplt\u001b[0m\u001b[0;34m.\u001b[0m\u001b[0mfigure\u001b[0m\u001b[0;34m(\u001b[0m\u001b[0mfigsize\u001b[0m\u001b[0;34m=\u001b[0m\u001b[0;34m(\u001b[0m\u001b[0;36m20\u001b[0m\u001b[0;34m,\u001b[0m\u001b[0;36m7\u001b[0m\u001b[0;34m)\u001b[0m\u001b[0;34m)\u001b[0m\u001b[0;34m\u001b[0m\u001b[0;34m\u001b[0m\u001b[0m\n\u001b[1;32m      7\u001b[0m \u001b[0mplot\u001b[0m\u001b[0;34m=\u001b[0m\u001b[0msns\u001b[0m\u001b[0;34m.\u001b[0m\u001b[0mbarplot\u001b[0m\u001b[0;34m(\u001b[0m\u001b[0mx\u001b[0m\u001b[0;34m=\u001b[0m\u001b[0mtop20_bigram\u001b[0m\u001b[0;34m[\u001b[0m\u001b[0;34m'Tri-gram'\u001b[0m\u001b[0;34m]\u001b[0m\u001b[0;34m,\u001b[0m\u001b[0my\u001b[0m\u001b[0;34m=\u001b[0m\u001b[0mtop20_bigram\u001b[0m\u001b[0;34m[\u001b[0m\u001b[0;34m'Freq'\u001b[0m\u001b[0;34m]\u001b[0m\u001b[0;34m)\u001b[0m\u001b[0;34m\u001b[0m\u001b[0;34m\u001b[0m\u001b[0m\n",
            "\u001b[0;31mNameError\u001b[0m: name 'top3_df' is not defined"
          ]
        }
      ],
      "source": [
        "#Tri-gram plot\n",
        "import matplotlib.pyplot as plt\n",
        "import seaborn as sns\n",
        "\n",
        "top20_bigram=top3_df.iloc[0:20,:]\n",
        "fig=plt.figure(figsize=(20,7))\n",
        "plot=sns.barplot(x=top20_bigram['Tri-gram'],y=top20_bigram['Freq'])\n",
        "plot.set_xticklabels(rotation=45,labels=top20_bigram[\"Tri-gram\"])\n",
        "plt.show()"
      ]
    },
    {
      "cell_type": "markdown",
      "metadata": {
        "id": "rW5VHkvjLufI"
      },
      "source": [
        "## WordCloud"
      ]
    },
    {
      "cell_type": "code",
      "execution_count": null,
      "metadata": {
        "id": "XE91_xyfLjPj"
      },
      "outputs": [],
      "source": [
        "string_Total=\" \".join(elon_musk_cln['Text'])\n",
        "\n",
        "#wordcloud for entire corpus\n",
        "from wordcloud import WordCloud\n",
        "plt.figure(figsize=(15,15))\n",
        "plt.axis('off')\n",
        "wordcloud_stw=WordCloud(background_color= 'white',width = 2800,height = 2500).generate(string_Total)\n",
        "plt.imshow(wordcloud_stw)"
      ]
    },
    {
      "cell_type": "markdown",
      "metadata": {
        "id": "D1SK-rmXVL6q"
      },
      "source": [
        "## Part of speech tagging"
      ]
    },
    {
      "cell_type": "code",
      "execution_count": null,
      "metadata": {
        "id": "QHYa7EHPRHG8"
      },
      "outputs": [],
      "source": [
        "elon_musk_cln"
      ]
    },
    {
      "cell_type": "code",
      "execution_count": null,
      "metadata": {
        "id": "ziXwZwtTQa0q"
      },
      "outputs": [],
      "source": [
        "elon_musk_sen=elon_musk_cln.copy()\n",
        "elon_musk_sen=[x.strip() for x in elon_musk_sen.Text]# strip for removing lead n tail chars/spaces\n",
        "elon_musk_sen=[x for x in elon_musk_sen if x]\n",
        "elon_musk_sen[0:25]"
      ]
    },
    {
      "cell_type": "code",
      "execution_count": null,
      "metadata": {
        "id": "nv0uAd3DQW4Y"
      },
      "outputs": [],
      "source": [
        "## part of speech tagging \n",
        "# nlp = spacy.load('en)\n",
        "nlp=spacy.load('en_core_web_sm')\n",
        "\n",
        "one_block=elon_musk_sen[21]\n",
        "doc_block=nlp(one_block)\n",
        "spacy.displacy.render(doc_block,style='ent',jupyter=True)"
      ]
    },
    {
      "cell_type": "code",
      "execution_count": null,
      "metadata": {
        "id": "A1q45zeKQ9qV"
      },
      "outputs": [],
      "source": [
        "one_block"
      ]
    },
    {
      "cell_type": "code",
      "execution_count": null,
      "metadata": {
        "id": "Fx6ooilTRA6O"
      },
      "outputs": [],
      "source": [
        "for token in doc_block[0:20]:\n",
        "  print(token,token.pos_)"
      ]
    },
    {
      "cell_type": "markdown",
      "metadata": {
        "id": "Xjyk9eO9R7aJ"
      },
      "source": [
        "##Sentence Scoring"
      ]
    },
    {
      "cell_type": "code",
      "execution_count": null,
      "metadata": {
        "id": "t9c__MwzWM8E"
      },
      "outputs": [],
      "source": [
        "from google.colab import files\n",
        "uploaded=files.upload()"
      ]
    },
    {
      "cell_type": "code",
      "execution_count": null,
      "metadata": {
        "id": "H7xpjiBPWmsl"
      },
      "outputs": [],
      "source": [
        "#Sentiment analysis\n",
        "afinn = pd.read_csv('Afinn.csv', sep=',', encoding='latin-1')\n",
        "afinn"
      ]
    },
    {
      "cell_type": "code",
      "execution_count": null,
      "metadata": {
        "id": "mWgef5Gvy6X4"
      },
      "outputs": [],
      "source": [
        "tweet = [x.strip() for x in elon_musk_cln.Text] # remove both the leading and the trailing characters"
      ]
    },
    {
      "cell_type": "code",
      "execution_count": null,
      "metadata": {
        "id": "pQEPHVylW2T1"
      },
      "outputs": [],
      "source": [
        "import nltk\n",
        "nltk.download('punkt')"
      ]
    },
    {
      "cell_type": "code",
      "execution_count": null,
      "metadata": {
        "id": "Wov7M2qE2mag"
      },
      "outputs": [],
      "source": [
        "# Joining the list into one string/text\n",
        "tweets_text = ' '.join(tweet)\n",
        "len(tweets_text)"
      ]
    },
    {
      "cell_type": "code",
      "execution_count": null,
      "metadata": {
        "id": "YW5OBqdEW5y4"
      },
      "outputs": [],
      "source": [
        "#Tokenizing\n",
        "from nltk import tokenize\n",
        "sentences=tokenize.sent_tokenize(\" \".join(tweet))\n",
        "sentences"
      ]
    },
    {
      "cell_type": "code",
      "execution_count": null,
      "metadata": {
        "id": "8_w00JCnI5yQ"
      },
      "outputs": [],
      "source": [
        "#word scores\n",
        "affinity_scores=afinn.set_index('word')['value'].to_dict()\n",
        "affinity_scores"
      ]
    },
    {
      "cell_type": "code",
      "execution_count": null,
      "metadata": {
        "id": "Z7Z6PhwXJfIh"
      },
      "outputs": [],
      "source": [
        "#custom function : score each word in a sentence in lemmatise form,\n",
        "#but calculated the score for the whole original sentence\n",
        "nlp=spacy.load('en_core_web_sm')\n",
        "sentiment_lexicon=affinity_scores\n",
        "\n",
        "def calculate_sentiment(text:str=None):\n",
        "  sent_score=0\n",
        "  if text:\n",
        "    sentence=nlp(text)\n",
        "    print(sentence)\n",
        "    for word in sentence:\n",
        "      sent_score+=sentiment_lexicon.get(word.lemma_,0)\n",
        "  return sent_score"
      ]
    },
    {
      "cell_type": "code",
      "execution_count": null,
      "metadata": {
        "id": "TF-XKv6-JmYm"
      },
      "outputs": [],
      "source": [
        "# test that it works\n",
        "calculate_sentiment(text = 'good')"
      ]
    },
    {
      "cell_type": "code",
      "execution_count": null,
      "metadata": {
        "id": "YR6utidnJqwE"
      },
      "outputs": [],
      "source": [
        "elon_musk_cln['sentiment_value']=elon_musk_cln['Text'].apply(calculate_sentiment)"
      ]
    },
    {
      "cell_type": "code",
      "execution_count": null,
      "metadata": {
        "id": "AYupBFiyKLh9"
      },
      "outputs": [],
      "source": [
        "#word count\n",
        "elon_musk_cln['word_count']=elon_musk_cln['Text'].str.split().apply(len)\n",
        "elon_musk_cln['word_count'].head(25)"
      ]
    },
    {
      "cell_type": "code",
      "execution_count": null,
      "metadata": {
        "id": "LPEMMbtAKbCu"
      },
      "outputs": [],
      "source": [
        "elon_musk_cln.sort_values(by='sentiment_value').tail(10)"
      ]
    },
    {
      "cell_type": "code",
      "execution_count": null,
      "metadata": {
        "id": "AA78o82jKy0w"
      },
      "outputs": [],
      "source": [
        "elon_musk_cln.sort_values(by='sentiment_value').head(10)"
      ]
    },
    {
      "cell_type": "code",
      "execution_count": null,
      "metadata": {
        "id": "Lm4CeoZPLHkr"
      },
      "outputs": [],
      "source": [
        "#sentiment score of the whole review\n",
        "elon_musk_cln['sentiment_value'].describe()"
      ]
    },
    {
      "cell_type": "code",
      "execution_count": null,
      "metadata": {
        "id": "m5hZq1pSLafO"
      },
      "outputs": [],
      "source": [
        "# negative sentiment score of the whole review\n",
        "elon_musk_cln[elon_musk_cln['sentiment_value']<0]"
      ]
    },
    {
      "cell_type": "code",
      "execution_count": null,
      "metadata": {
        "id": "hRZ4svD1LoPV"
      },
      "outputs": [],
      "source": [
        "elon_musk_cln[elon_musk_cln['sentiment_value']==0]"
      ]
    },
    {
      "cell_type": "code",
      "execution_count": null,
      "metadata": {
        "id": "QrBDcTvXLymm"
      },
      "outputs": [],
      "source": [
        "elon_musk_cln[elon_musk_cln['sentiment_value']>0]"
      ]
    },
    {
      "cell_type": "code",
      "execution_count": null,
      "metadata": {
        "id": "XADjqtQKB8Ik"
      },
      "outputs": [],
      "source": [
        "import seaborn as sns\n",
        "import matplotlib.pyplot as plt\n",
        "\n",
        "sns.set_style(style='white')\n",
        "sns.distplot(elon_musk_cln['sentiment_value'])\n",
        "plt.show()"
      ]
    },
    {
      "cell_type": "code",
      "execution_count": null,
      "metadata": {
        "id": "HwiHprkjCEUg"
      },
      "outputs": [],
      "source": [
        "elontweets_line=elon_musk_cln.copy()\n",
        "elontweets_line['index']=range(0,len(elontweets_line))\n",
        "plt.figure(figsize=(11,7))\n",
        "sns.lineplot(y='sentiment_value',x='index',data=elontweets_line)"
      ]
    },
    {
      "cell_type": "code",
      "execution_count": null,
      "metadata": {
        "id": "IkKJqV88CbdR"
      },
      "outputs": [],
      "source": [
        "elontweets_line.plot.scatter(x='word_count',y='sentiment_value',figsize=(8,8),title='sentence sentiment value to sentence word count')"
      ]
    },
    {
      "cell_type": "markdown",
      "metadata": {
        "id": "O4gsEV9wLQBG"
      },
      "source": [
        "##Subjectivity and Polarity"
      ]
    },
    {
      "cell_type": "code",
      "execution_count": null,
      "metadata": {
        "id": "FsBpuwbML1xs"
      },
      "outputs": [],
      "source": [
        "from textblob import TextBlob\n",
        "\n",
        "# Get The Subjectivity\n",
        "def sentiment_analysis(ds):\n",
        "    sentiment = TextBlob(ds[\"Text\"]).sentiment\n",
        "    return pd.Series([sentiment.subjectivity, sentiment.polarity])"
      ]
    },
    {
      "cell_type": "code",
      "execution_count": null,
      "metadata": {
        "id": "fAbuKYfXNV7C"
      },
      "outputs": [],
      "source": [
        "# Adding features Subjectivity & Polarity to dataset\n",
        "elon_musk_cln[[\"subjectivity\", \"polarity\"]] = elon_musk_cln.apply(sentiment_analysis, axis=1)\n",
        "elon_musk_cln.head(25)\n"
      ]
    },
    {
      "cell_type": "code",
      "execution_count": null,
      "metadata": {
        "id": "EgM-W7dFXcXC"
      },
      "outputs": [],
      "source": [
        "def analysis(score):\n",
        "    if score < 0:\n",
        "        return \"Negative\"\n",
        "    elif score == 0:\n",
        "        return \"Neutral\"\n",
        "    else:\n",
        "        return \"Positive\""
      ]
    },
    {
      "cell_type": "code",
      "execution_count": null,
      "metadata": {
        "id": "JF4bxPSPXkRk"
      },
      "outputs": [],
      "source": [
        "elon_tweets=elon_musk_cln.copy()\n",
        "elon_tweets[\"tweet_kind\"] = elon_tweets[\"polarity\"].apply(analysis)\n",
        "elon_tweets"
      ]
    },
    {
      "cell_type": "code",
      "execution_count": null,
      "metadata": {
        "id": "LbCUIzdKYJSw"
      },
      "outputs": [],
      "source": [
        "elon_tweets.describe()"
      ]
    },
    {
      "cell_type": "code",
      "execution_count": null,
      "metadata": {
        "id": "jp6UgeTm5HOU"
      },
      "outputs": [],
      "source": [
        "#Negative tweets wordcloud\n",
        "wordcloud = WordCloud(height=2000, width=2000, background_color='black')\n",
        "wordcloud = wordcloud.generate(' '.join(elon_tweets.loc[elon_tweets['tweet_kind']=='Negative','Text'].tolist()))\n",
        "plt.figure(figsize=(10,7))\n",
        "plt.imshow(wordcloud)\n",
        "plt.title(\"Most common words in Negative tweets\")\n",
        "plt.axis('off')\n",
        "plt.show()"
      ]
    },
    {
      "cell_type": "code",
      "execution_count": null,
      "metadata": {
        "id": "jvOc79y_5djl"
      },
      "outputs": [],
      "source": [
        "#Neutral tweets wordcloud\n",
        "wordcloud = WordCloud(height=2000, width=2000, background_color='black')\n",
        "wordcloud = wordcloud.generate(' '.join(elon_tweets.loc[elon_tweets['tweet_kind']=='Neutral','Text'].tolist()))\n",
        "plt.figure(figsize=(10,7))\n",
        "plt.imshow(wordcloud)\n",
        "plt.title(\"Most common words in Neutral tweets\")\n",
        "plt.axis('off')\n",
        "plt.show()"
      ]
    },
    {
      "cell_type": "code",
      "execution_count": null,
      "metadata": {
        "id": "YnMqxdy44P7d"
      },
      "outputs": [],
      "source": [
        "#positive tweets wordcloud\n",
        "wordcloud = WordCloud(height=2000, width=2000, background_color='black')\n",
        "wordcloud = wordcloud.generate(' '.join(elon_tweets.loc[elon_tweets['tweet_kind']=='Positive','Text'].tolist()))\n",
        "plt.figure(figsize=(10,7))\n",
        "plt.imshow(wordcloud)\n",
        "plt.title(\"Most common words in positive tweets\")\n",
        "plt.axis('off')\n",
        "plt.show()"
      ]
    },
    {
      "cell_type": "markdown",
      "metadata": {
        "id": "8hVLRU5WCmRB"
      },
      "source": [
        "# Conclusion:"
      ]
    },
    {
      "cell_type": "code",
      "execution_count": null,
      "metadata": {
        "id": "mZACl8uRXyjv"
      },
      "outputs": [],
      "source": [
        "elon_tweets['tweet_kind'].value_counts()"
      ]
    },
    {
      "cell_type": "code",
      "execution_count": null,
      "metadata": {
        "id": "sjuUU0pA35Kc"
      },
      "outputs": [],
      "source": [
        "sns.countplot(elon_tweets['tweet_kind']).set_title(\"Elon musk Tweets Category\")\n",
        "plt.show()"
      ]
    },
    {
      "cell_type": "markdown",
      "metadata": {
        "id": "vyNXAgaDNsXC"
      },
      "source": [
        "*  There are more neutral reviews than the positive and negative reviews"
      ]
    },
    {
      "cell_type": "markdown",
      "metadata": {
        "id": "rvk84sq1PPWA"
      },
      "source": [
        "#Problem-2)\n",
        "\n",
        "*  Extract reviews of any product from ecommerce website like amazon\n",
        "\n",
        "*  Perform emotion mining\n",
        "\n"
      ]
    },
    {
      "cell_type": "markdown",
      "metadata": {
        "id": "FvRuSCyFPZDo"
      },
      "source": [
        "#Solution:"
      ]
    },
    {
      "cell_type": "code",
      "execution_count": null,
      "metadata": {
        "id": "TawKBE4mPboE"
      },
      "outputs": [],
      "source": [
        "from wordcloud import WordCloud\n",
        "from nltk.tokenize import word_tokenize\n",
        "from nltk.corpus import stopwords\n",
        "from nltk.stem import WordNetLemmatizer\n",
        "from nltk.tokenize import sent_tokenize\n",
        "from sklearn.feature_extraction.text import TfidfVectorizer\n",
        "import requests\n",
        "from bs4 import BeautifulSoup\n",
        "#from selenium import webdriver"
      ]
    },
    {
      "cell_type": "markdown",
      "metadata": {
        "id": "lWQmTey0NXdL"
      },
      "source": [
        "## Taking TITAN WATCH reviews from amazon for performing emotion mining"
      ]
    },
    {
      "cell_type": "code",
      "execution_count": null,
      "metadata": {
        "id": "BuYDVfWT4jZs"
      },
      "outputs": [],
      "source": [
        "titan_watch=[]\n",
        "for i in range (1,63):\n",
        "    watch=[]\n",
        "    url=\"https://www.amazon.in/Titan-Analog-Blue-Dial-Watch-1766SL03/product-reviews/B07DD2KBXV/ref=cm_cr_arp_d_paging_btm_next_2?ie=UTF8&reviewerType=all_reviews&pageNumber=\"+str(i)\n",
        "    response=requests.get(url)\n",
        "    soup=BeautifulSoup(response.content,\"html.parser\")\n",
        "    reviews=soup.findAll(\"span\",attrs={\"class\",\"a-size-base review-text review-text-content\"})\n",
        "    for i in range (len(reviews)):\n",
        "        watch.append(reviews[i].text)\n",
        "    titan_watch=titan_watch+watch   "
      ]
    },
    {
      "cell_type": "code",
      "execution_count": null,
      "metadata": {
        "id": "x0CsRq5nRHWt"
      },
      "outputs": [],
      "source": [
        "len(titan_watch)"
      ]
    },
    {
      "cell_type": "code",
      "execution_count": null,
      "metadata": {
        "id": "LQcSOoa_RulB"
      },
      "outputs": [],
      "source": [
        "titan_watch"
      ]
    },
    {
      "cell_type": "markdown",
      "metadata": {
        "id": "9BXxMdlFOgh-"
      },
      "source": [
        "##Basic,EDA and Text cleanig"
      ]
    },
    {
      "cell_type": "code",
      "execution_count": null,
      "metadata": {
        "id": "Bt69u-iaUi6R"
      },
      "outputs": [],
      "source": [
        "titan=pd.DataFrame.from_dict({\"review\":titan_watch})\n",
        "pd.set_option('max_colwidth',500)\n",
        "\n",
        "titan"
      ]
    },
    {
      "cell_type": "code",
      "execution_count": null,
      "metadata": {
        "id": "SGUW5Lb3OqJ4"
      },
      "outputs": [],
      "source": [
        "titan.shape"
      ]
    },
    {
      "cell_type": "code",
      "execution_count": null,
      "metadata": {
        "id": "iYfd3ShJ8f6D"
      },
      "outputs": [],
      "source": [
        "titan['review'].isnull().sum()"
      ]
    },
    {
      "cell_type": "code",
      "execution_count": null,
      "metadata": {
        "id": "-SMm6qcjRUAd"
      },
      "outputs": [],
      "source": [
        "titan.duplicated().value_counts()"
      ]
    },
    {
      "cell_type": "code",
      "execution_count": null,
      "metadata": {
        "id": "cbvh0MWV8Ydr"
      },
      "outputs": [],
      "source": [
        "def deemojify(inputString):\n",
        "    return inputString.encode('ascii', 'ignore').decode('ascii')"
      ]
    },
    {
      "cell_type": "code",
      "execution_count": null,
      "metadata": {
        "id": "s_wUK5gzbgz9"
      },
      "outputs": [],
      "source": [
        "#regular expression\n",
        "import re \n",
        "import string\n",
        "\n",
        "def clean_text(text):\n",
        "  text=text.lower()\n",
        "  text=deemojify(text)\n",
        "  text=re.sub('\\[.*?-,\\]','',text)\n",
        "  text=re.sub('[%s]' % re.escape(string.punctuation),'',text)\n",
        "  text=re.sub('\\w*\\d\\w*','',text)\n",
        "  text=re.sub(\"[0-9\" \"]+\",\" \",text)\n",
        "  text=re.sub('[‘’“”…]','',text)\n",
        "  return text\n",
        "\n",
        "clean=lambda x:clean_text(x)"
      ]
    },
    {
      "cell_type": "code",
      "execution_count": null,
      "metadata": {
        "id": "L-HVPCsebGC2"
      },
      "outputs": [],
      "source": [
        "titan_cln=titan.copy()\n",
        "titan_cln['review']=titan_cln.review.apply(clean)\n",
        "titan_cln"
      ]
    },
    {
      "cell_type": "code",
      "execution_count": null,
      "metadata": {
        "id": "JZSMEyoNfUjF"
      },
      "outputs": [],
      "source": [
        "#removing stop words\n",
        "titan_nosw=titan_cln.copy()\n",
        "titan_nosw['review']=titan_nosw['review'].apply(lambda x:\" \".join(x for x in x.split() if x not in stop))\n",
        "titan_nosw.head()"
      ]
    },
    {
      "cell_type": "code",
      "execution_count": null,
      "metadata": {
        "id": "D8755Fx2DhcE"
      },
      "outputs": [],
      "source": [
        "#word frequency\n",
        "#top 20\n",
        "freq1=pd.Series(''.join(titan_nosw['review']).split()).value_counts()[:25]\n",
        "freq1"
      ]
    },
    {
      "cell_type": "code",
      "execution_count": null,
      "metadata": {
        "id": "GIR77XvxEWrZ"
      },
      "outputs": [],
      "source": [
        "#count vectorizer tells the frequency of a word\n",
        "from sklearn.feature_extraction.text import CountVectorizer\n",
        "import numpy as np\n",
        "vectorizer1=CountVectorizer(min_df=1,max_df=5)\n",
        "X1=vectorizer1.fit_transform(titan_nosw[\"review\"])\n",
        "word_freq_df1=pd.DataFrame({'term':vectorizer1.get_feature_names(),\n",
        "                           'occurrences':np.asarray(X1.sum(axis=0)).ravel().tolist()})\n",
        "word_freq_df1['frequency']=word_freq_df1['occurrences']/np.sum(word_freq_df1['occurrences'])"
      ]
    },
    {
      "cell_type": "code",
      "execution_count": null,
      "metadata": {
        "id": "5052pyPCEwUO"
      },
      "outputs": [],
      "source": [
        "word_freq_df1.head(25)"
      ]
    },
    {
      "cell_type": "code",
      "execution_count": null,
      "metadata": {
        "id": "hMRd9bf0E4Fo"
      },
      "outputs": [],
      "source": [
        "#TFIDF -term frequency inverse document frequency\n",
        "from sklearn.feature_extraction.text import TfidfVectorizer\n",
        "vectorizer2=TfidfVectorizer(stop_words='english',max_features=1000,max_df=0.5,smooth_idf=True)# 1000 words\n",
        "doc_vec2=vectorizer2.fit_transform(titan_nosw['review'])\n",
        "names_features2=vectorizer2.get_feature_names()\n",
        "dense2=doc_vec2.todense()\n",
        "denselist2=dense2.tolist()\n",
        "df2=pd.DataFrame(denselist2,columns=names_features2)"
      ]
    },
    {
      "cell_type": "code",
      "execution_count": null,
      "metadata": {
        "id": "lVh2upU8FmfC"
      },
      "outputs": [],
      "source": [
        "df2"
      ]
    },
    {
      "cell_type": "markdown",
      "metadata": {
        "id": "lMy_NqtjF1Zx"
      },
      "source": [
        "## N-gram"
      ]
    },
    {
      "cell_type": "code",
      "execution_count": null,
      "metadata": {
        "id": "b153pP4SF7Kn"
      },
      "outputs": [],
      "source": [
        "#Bi-gram\n",
        "def get_top_n2_words(corpus,n=None):\n",
        "  vec1=CountVectorizer(ngram_range=(2,2),max_features=2000).fit(corpus) # for tri-gram=(3,3)\n",
        "  bag_of_words=vec1.transform(corpus)\n",
        "  sum_words=bag_of_words.sum(axis=0)\n",
        "  words_freq=[(word,sum_words[0,idx]) for word,idx in vec1.vocabulary_.items()]\n",
        "  words_freq=sorted(words_freq,key=lambda x:x[1],reverse=True)\n",
        "    \n",
        "  return words_freq[:n] "
      ]
    },
    {
      "cell_type": "code",
      "execution_count": null,
      "metadata": {
        "id": "KgkEHImgGGVB"
      },
      "outputs": [],
      "source": [
        "top2_words=get_top_n2_words(titan['review'],n=200) #top 200\n",
        "top2_df=pd.DataFrame(top2_words)\n",
        "top2_df.columns=['Bi-gram',\"Freq\"]\n",
        "top2_df.head(50)"
      ]
    },
    {
      "cell_type": "code",
      "execution_count": null,
      "metadata": {
        "id": "UPr2fdaBGRY-"
      },
      "outputs": [],
      "source": [
        "#Bi-gram plot\n",
        "import matplotlib.pyplot as plt\n",
        "import seaborn as sns\n",
        "\n",
        "top20_bigram=top2_df.iloc[0:20,:]\n",
        "fig=plt.figure(figsize=(20,7))\n",
        "plot=sns.barplot(x=top20_bigram['Bi-gram'],y=top20_bigram['Freq'])\n",
        "plot.set_xticklabels(rotation=45,labels=top20_bigram[\"Bi-gram\"])\n",
        "plt.show()"
      ]
    },
    {
      "cell_type": "code",
      "execution_count": null,
      "metadata": {
        "id": "vm6jg4aAGW-v"
      },
      "outputs": [],
      "source": [
        "#Tri-gram\n",
        "def get_top_n3_words(corpus,n=None):\n",
        "  vec1=CountVectorizer(ngram_range=(3,3),max_features=2000).fit(corpus)\n",
        "  bag_of_words=vec1.transform(corpus)\n",
        "  sum_words=bag_of_words.sum(axis=0)\n",
        "  words_freq=[(word,sum_words[0,idx]) for word,idx in vec1.vocabulary_.items()]\n",
        "  words_freq=sorted(words_freq,key=lambda x:x[1],reverse=True)\n",
        "    \n",
        "  return words_freq[:n]  "
      ]
    },
    {
      "cell_type": "code",
      "execution_count": null,
      "metadata": {
        "id": "BI35QRXgGatQ"
      },
      "outputs": [],
      "source": [
        "top3_words=get_top_n3_words(titan_nosw['review'],n=200) #top 200\n",
        "top3_df=pd.DataFrame(top3_words)\n",
        "top3_df.columns=['Tri-gram',\"Freq\"]\n",
        "top3_df"
      ]
    },
    {
      "cell_type": "code",
      "execution_count": null,
      "metadata": {
        "id": "J_9fowvIGmih"
      },
      "outputs": [],
      "source": [
        "#Tri-gram plot\n",
        "import matplotlib.pyplot as plt\n",
        "import seaborn as sns\n",
        "\n",
        "top20_bigram=top3_df.iloc[0:20,:]\n",
        "fig=plt.figure(figsize=(20,7))\n",
        "plot=sns.barplot(x=top20_bigram['Tri-gram'],y=top20_bigram['Freq'])\n",
        "plot.set_xticklabels(rotation=45,labels=top20_bigram[\"Tri-gram\"])\n",
        "plt.show()"
      ]
    },
    {
      "cell_type": "markdown",
      "metadata": {
        "id": "Fhy0I1kxGqqY"
      },
      "source": [
        "## wordcloud"
      ]
    },
    {
      "cell_type": "code",
      "execution_count": null,
      "metadata": {
        "id": "TdZsaAewGqLk"
      },
      "outputs": [],
      "source": [
        "string_Total=\" \".join(titan_nosw['review'])\n",
        "\n",
        "#wordcloud for entire corpus\n",
        "from wordcloud import WordCloud\n",
        "plt.figure(figsize=(15,15))\n",
        "plt.axis('off')\n",
        "wordcloud_stw=WordCloud(background_color= 'white',width = 2800,height = 2500).generate(string_Total)\n",
        "plt.imshow(wordcloud_stw)"
      ]
    },
    {
      "cell_type": "markdown",
      "metadata": {
        "id": "wCz-XEZfTXVG"
      },
      "source": [
        "## Part of speech tagging"
      ]
    },
    {
      "cell_type": "code",
      "execution_count": null,
      "metadata": {
        "id": "fKWwuPtNVBnR"
      },
      "outputs": [],
      "source": [
        "titan_sen=titan_nosw.copy()\n",
        "titan_sen=[x.strip() for x in titan_sen.review]# strip for removing lead n tail chars/spaces\n",
        "titan_sen=[x for x in titan_sen if x]\n",
        "titan_sen[0:25]"
      ]
    },
    {
      "cell_type": "code",
      "execution_count": null,
      "metadata": {
        "id": "Te7KaUI8WOed"
      },
      "outputs": [],
      "source": [
        "## part of speech tagging \n",
        "# nlp = spacy.load('en)\n",
        "nlp=spacy.load('en_core_web_sm')\n",
        "\n",
        "one_block=titan_sen[11]\n",
        "doc_block=nlp(one_block)\n",
        "spacy.displacy.render(doc_block,style='ent',jupyter=True)"
      ]
    },
    {
      "cell_type": "code",
      "execution_count": null,
      "metadata": {
        "id": "xDBv2AS1XB_G"
      },
      "outputs": [],
      "source": [
        "one_block"
      ]
    },
    {
      "cell_type": "code",
      "execution_count": null,
      "metadata": {
        "id": "-u-8QVlGXT0l"
      },
      "outputs": [],
      "source": [
        "for token in doc_block[0:20]:\n",
        "  print(token,token.pos_)"
      ]
    },
    {
      "cell_type": "code",
      "execution_count": null,
      "metadata": {
        "id": "nvkWBGkoX8Lp"
      },
      "outputs": [],
      "source": [
        "# filetring for nouns & verbs \n",
        "nouns_verbs=[token.text for token in doc_block if token.pos_ in('NOUN','VERB')]\n",
        "print(nouns_verbs[5:25])"
      ]
    },
    {
      "cell_type": "code",
      "execution_count": null,
      "metadata": {
        "id": "101pUBeFWhXX"
      },
      "outputs": [],
      "source": [
        "nlp=spacy.load('en_core_web_sm')\n",
        "\n",
        "one_block=titan_sen[21]\n",
        "doc_block=nlp(one_block)\n",
        "spacy.displacy.render(doc_block,style='ent',jupyter=True)"
      ]
    },
    {
      "cell_type": "code",
      "execution_count": null,
      "metadata": {
        "id": "omdTNNmqW0Lf"
      },
      "outputs": [],
      "source": [
        "one_block"
      ]
    },
    {
      "cell_type": "code",
      "execution_count": null,
      "metadata": {
        "id": "30Wo75gaW_sn"
      },
      "outputs": [],
      "source": [
        "for token in doc_block[0:20]:\n",
        "  print(token,token.pos_)"
      ]
    },
    {
      "cell_type": "code",
      "execution_count": null,
      "metadata": {
        "id": "ZbCrpw2OXcZA"
      },
      "outputs": [],
      "source": [
        "# filetring for nouns & verbs \n",
        "nouns_verbs=[token.text for token in doc_block if token.pos_ in('NOUN','VERB')]\n",
        "print(nouns_verbs[5:25])"
      ]
    },
    {
      "cell_type": "code",
      "execution_count": null,
      "metadata": {
        "id": "dpGNeyKnY8ki"
      },
      "outputs": [],
      "source": [
        "import nltk\n",
        "nltk.download('punkt')\n",
        "text=\" \".join(titan_nosw[\"review\"])\n",
        "text_tokens = word_tokenize(text)"
      ]
    },
    {
      "cell_type": "code",
      "execution_count": null,
      "metadata": {
        "id": "MjhL1P1EajCh"
      },
      "outputs": [],
      "source": [
        "text_tokens[:20]"
      ]
    },
    {
      "cell_type": "code",
      "execution_count": null,
      "metadata": {
        "id": "n37ugITPapan"
      },
      "outputs": [],
      "source": [
        "len(text_tokens)"
      ]
    },
    {
      "cell_type": "markdown",
      "metadata": {
        "id": "8N7dEVC_SuxB"
      },
      "source": [
        "## Sentence Scoring"
      ]
    },
    {
      "cell_type": "code",
      "execution_count": null,
      "metadata": {
        "id": "f50-8T_TnQw8"
      },
      "outputs": [],
      "source": [
        "#custom function : score each word in a sentence in lemmatise form,\n",
        "#but calculated the score for the whole original sentence\n",
        "nlp=spacy.load('en_core_web_sm')\n",
        "sentiment_lexicon=affinity_scores\n",
        "\n",
        "def calculate_sentiment(text:str=None):\n",
        "  sent_score=0\n",
        "  if text:\n",
        "    sentence=nlp(text)\n",
        "    print(sentence)\n",
        "    for word in sentence:\n",
        "      sent_score+=sentiment_lexicon.get(word.lemma_,0)\n",
        "  return sent_score"
      ]
    },
    {
      "cell_type": "code",
      "execution_count": null,
      "metadata": {
        "id": "_VVv1M-ryT5Y"
      },
      "outputs": [],
      "source": [
        "titan_nosw['sentiment_value']=titan_nosw['review'].apply(calculate_sentiment)"
      ]
    },
    {
      "cell_type": "code",
      "execution_count": null,
      "metadata": {
        "id": "AqRXRcvkPnEc"
      },
      "outputs": [],
      "source": [
        "#word count\n",
        "titan_nosw['word_count']=titan_nosw['review'].str.split().apply(len)\n",
        "titan_nosw['word_count'].head(25)"
      ]
    },
    {
      "cell_type": "code",
      "execution_count": null,
      "metadata": {
        "id": "YL6DNVvpP0RK"
      },
      "outputs": [],
      "source": [
        "titan_nosw.sort_values(by='sentiment_value').tail(15)"
      ]
    },
    {
      "cell_type": "code",
      "execution_count": null,
      "metadata": {
        "id": "tmL2QxKZQBrx"
      },
      "outputs": [],
      "source": [
        "titan_nosw.sort_values(by='sentiment_value').head(10)"
      ]
    },
    {
      "cell_type": "code",
      "execution_count": null,
      "metadata": {
        "id": "RGsu6B4DQL7f"
      },
      "outputs": [],
      "source": [
        "#sentiment score of the whole review\n",
        "titan_nosw['sentiment_value'].describe()"
      ]
    },
    {
      "cell_type": "code",
      "execution_count": null,
      "metadata": {
        "id": "scTbWpguQYDQ"
      },
      "outputs": [],
      "source": [
        "titan_nosw[titan_nosw['sentiment_value']<0]"
      ]
    },
    {
      "cell_type": "code",
      "execution_count": null,
      "metadata": {
        "id": "W-WITkDFQe1s"
      },
      "outputs": [],
      "source": [
        "titan_nosw[titan_nosw['sentiment_value']>0]"
      ]
    },
    {
      "cell_type": "code",
      "execution_count": null,
      "metadata": {
        "id": "1aA3u2gIQlqd"
      },
      "outputs": [],
      "source": [
        "titan_nosw[titan_nosw['sentiment_value']==0]"
      ]
    },
    {
      "cell_type": "code",
      "execution_count": null,
      "metadata": {
        "id": "lcSmeCtsQp-O"
      },
      "outputs": [],
      "source": [
        "import seaborn as sns\n",
        "import matplotlib.pyplot as plt\n",
        "\n",
        "sns.set_style(style='white')\n",
        "sns.distplot(titan_nosw['sentiment_value'])\n",
        "plt.show()"
      ]
    },
    {
      "cell_type": "code",
      "execution_count": null,
      "metadata": {
        "id": "pG3DKOoYR6r0"
      },
      "outputs": [],
      "source": [
        "titan_line=titan_nosw.copy()\n",
        "titan_line['index']=range(0,len(titan_line))\n",
        "plt.figure(figsize=(11,7))\n",
        "sns.lineplot(y='sentiment_value',x='index',data=titan_line)"
      ]
    },
    {
      "cell_type": "code",
      "execution_count": null,
      "metadata": {
        "id": "-hlWBOtASE5m"
      },
      "outputs": [],
      "source": [
        "titan_line.plot.scatter(x='word_count',y='sentiment_value',figsize=(8,8),title='sentence sentiment value to sentence word count')"
      ]
    },
    {
      "cell_type": "markdown",
      "metadata": {
        "id": "EEJ__7VAS04A"
      },
      "source": [
        "##Subjectivity & Polarity"
      ]
    },
    {
      "cell_type": "code",
      "execution_count": null,
      "metadata": {
        "id": "5YOPZy8SXTIR"
      },
      "outputs": [],
      "source": [
        "from textblob import TextBlob\n",
        "\n",
        "# Get The Subjectivity\n",
        "def sentiment_analysis(ds):\n",
        "    sentiment = TextBlob(ds[\"Text\"]).sentiment\n",
        "    return pd.Series([sentiment.subjectivity, sentiment.polarity])"
      ]
    },
    {
      "cell_type": "code",
      "execution_count": null,
      "metadata": {
        "id": "5qDnPMaYH3Yk"
      },
      "outputs": [],
      "source": [
        "# Adding features Subjectivity & Polarity to dataset\n",
        "titan_sbpt=titan_nosw.copy()\n",
        "titan_sbpt[[\"subjectivity\", \"polarity\"]] = elon_musk_cln.apply(sentiment_analysis, axis=1)\n",
        "titan_sbpt.head(25)"
      ]
    },
    {
      "cell_type": "code",
      "execution_count": null,
      "metadata": {
        "id": "TekmAqVjIQeC"
      },
      "outputs": [],
      "source": [
        "def analysis(score):\n",
        "    if score < 0:\n",
        "        return \"Negative\"\n",
        "    elif score == 0:\n",
        "        return \"Neutral\"\n",
        "    else:\n",
        "        return \"Positive\""
      ]
    },
    {
      "cell_type": "code",
      "execution_count": null,
      "metadata": {
        "id": "6EyB9S07IWeR"
      },
      "outputs": [],
      "source": [
        "titan_sbpt[\"review_kind\"] = titan_sbpt[\"polarity\"].apply(analysis)\n",
        "titan_sbpt"
      ]
    },
    {
      "cell_type": "code",
      "execution_count": null,
      "metadata": {
        "id": "TG_qfOafIpwn"
      },
      "outputs": [],
      "source": [
        "titan_sbpt.describe()"
      ]
    },
    {
      "cell_type": "code",
      "execution_count": null,
      "metadata": {
        "id": "x31SQtFrJlCD"
      },
      "outputs": [],
      "source": [
        "#Negative tweets wordcloud\n",
        "wordcloud = WordCloud(height=2000, width=2000, background_color='black')\n",
        "wordcloud = wordcloud.generate(' '.join(titan_sbpt.loc[titan_sbpt['review_kind']=='Negative','review'].tolist()))\n",
        "plt.figure(figsize=(10,7))\n",
        "plt.imshow(wordcloud)\n",
        "plt.title(\"Most common words in Negative reviews\")\n",
        "plt.axis('off')\n",
        "plt.show()"
      ]
    },
    {
      "cell_type": "code",
      "execution_count": null,
      "metadata": {
        "id": "xfAR88PNIxzX"
      },
      "outputs": [],
      "source": [
        "#neutral tweets wordcloud\n",
        "wordcloud = WordCloud(height=2000, width=2000, background_color='black')\n",
        "wordcloud = wordcloud.generate(' '.join(titan_sbpt.loc[titan_sbpt['review_kind']=='Neutral','review'].tolist()))\n",
        "plt.figure(figsize=(10,7))\n",
        "plt.imshow(wordcloud)\n",
        "plt.title(\"Most common words in Neutral reviews\")\n",
        "plt.axis('off')\n",
        "plt.show()"
      ]
    },
    {
      "cell_type": "code",
      "execution_count": null,
      "metadata": {
        "id": "aSxv3C_yI659"
      },
      "outputs": [],
      "source": [
        "#positive tweets wordcloud\n",
        "wordcloud = WordCloud(height=2000, width=2000, background_color='black')\n",
        "wordcloud = wordcloud.generate(' '.join(titan_sbpt.loc[titan_sbpt['review_kind']=='Positive','review'].tolist()))\n",
        "plt.figure(figsize=(10,7))\n",
        "plt.imshow(wordcloud)\n",
        "plt.title(\"Most common words in Positive reviews\")\n",
        "plt.axis('off')\n",
        "plt.show()"
      ]
    },
    {
      "cell_type": "markdown",
      "metadata": {
        "id": "-A9Ehv1GJ9Oe"
      },
      "source": [
        "#Conclusion:"
      ]
    },
    {
      "cell_type": "code",
      "execution_count": null,
      "metadata": {
        "id": "yfRB0EWbIhxx"
      },
      "outputs": [],
      "source": [
        "titan_sbpt['review_kind'].value_counts()"
      ]
    },
    {
      "cell_type": "code",
      "execution_count": null,
      "metadata": {
        "id": "MvpmWmDQJs37"
      },
      "outputs": [],
      "source": [
        "sns.countplot(titan_sbpt['review_kind']).set_title(\" Titan Watch Reviews Category\")\n",
        "plt.show()"
      ]
    },
    {
      "cell_type": "markdown",
      "metadata": {
        "id": "_BqgSjIyMgsz"
      },
      "source": [
        "*  There are more neutral reviews than the positive and negative reviews."
      ]
    },
    {
      "cell_type": "markdown",
      "metadata": {
        "id": "Rpii4fZ2S8lw"
      },
      "source": [
        "\n",
        "\n",
        "---\n",
        "<center> THANK YOU\n",
        "\n",
        "\n",
        "---\n",
        "\n",
        "\n"
      ]
    }
  ],
  "metadata": {
    "colab": {
      "collapsed_sections": [
        "rW5VHkvjLufI",
        "D1SK-rmXVL6q",
        "Xjyk9eO9R7aJ",
        "O4gsEV9wLQBG",
        "8hVLRU5WCmRB",
        "lWQmTey0NXdL",
        "9BXxMdlFOgh-",
        "lMy_NqtjF1Zx",
        "Fhy0I1kxGqqY",
        "wCz-XEZfTXVG",
        "8N7dEVC_SuxB",
        "EEJ__7VAS04A",
        "-A9Ehv1GJ9Oe"
      ],
      "provenance": []
    },
    "kernelspec": {
      "display_name": "Python 3 (ipykernel)",
      "language": "python",
      "name": "python3"
    },
    "language_info": {
      "codemirror_mode": {
        "name": "ipython",
        "version": 3
      },
      "file_extension": ".py",
      "mimetype": "text/x-python",
      "name": "python",
      "nbconvert_exporter": "python",
      "pygments_lexer": "ipython3",
      "version": "3.9.13"
    }
  },
  "nbformat": 4,
  "nbformat_minor": 0
}